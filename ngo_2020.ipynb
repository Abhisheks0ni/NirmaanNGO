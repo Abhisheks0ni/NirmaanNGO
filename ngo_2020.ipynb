{
 "cells": [
  {
   "cell_type": "code",
   "execution_count": 1,
   "metadata": {},
   "outputs": [],
   "source": [
    "import statistics as st\n",
    "import squarify\n",
    "import numpy as np\n",
    "import datetime\n",
    "import seaborn as sns\n",
    "import matplotlib.pyplot as plt\n",
    "import pandas as pd\n",
    "import math\n",
    "import plotly.express as px"
   ]
  },
  {
   "cell_type": "code",
   "execution_count": 199,
   "metadata": {},
   "outputs": [],
   "source": [
    "import plotly.express as px"
   ]
  },
  {
   "cell_type": "code",
   "execution_count": 2,
   "metadata": {},
   "outputs": [],
   "source": [
    "def preprocessing_d_w(df):\n",
    "    df.columns = [c.replace(' ', '_') for c in df.columns]\n",
    "    df['Date_Time'] = pd.to_datetime(df['Date_Time'], errors='coerce')\n",
    "    df['date']=df.Date_Time.dt.date\n",
    "    df['hour']=df.Date_Time.dt.hour\n",
    "    df['weekday']=df.Date_Time.dt.weekday\n",
    "    dt=df[['date','weekday','Actual_Talk_Time','Wait_Time','Queue_Time(Secs)','Call_Status']].copy()\n",
    "    dt['date']=dt['date'].astype('datetime64[ns]')\n",
    "    #Preprocess Actual_Talk_Time column\n",
    "    dt['Actual_Talk_Time']=dt['Actual_Talk_Time'].str.replace('.', ':')\n",
    "    x=dt['Actual_Talk_Time'].copy()\n",
    "    #Putting NaNs at where data is is irregular \n",
    "    for i  in range(0,x.shape[0]):\n",
    "        if ':' not in str(x.iloc[i]):\n",
    "            x.iloc[i]=np.NaN\n",
    "        if len(str(x.iloc[i])) > 8:\n",
    "            x.iloc[i]=np.NaN\n",
    "    dt['Actual_Talk_Time']=x\n",
    "    return dt\n",
    "\n",
    "def make_delta(entry):\n",
    "    h, m, s = entry.split(':')\n",
    "    return datetime.timedelta(hours=int(h), minutes=int(m), seconds=int(s))\n",
    "\n",
    "def get_time_spent(df):\n",
    "    pd.options.mode.chained_assignment = None\n",
    "    dt=df.dropna(subset=['Actual_Talk_Time','date']) \n",
    "    dt['Actual_Talk_Time']=dt['Actual_Talk_Time'].map(lambda entry: make_delta(entry))\n",
    "    l=pd.unique(dt.date.dt.month)\n",
    "    l=sorted(l)\n",
    "    m=['NO_MONTH','Jan','Feb','Mar','Apr','May','Jun','Jul','Aug','Sept','Oct','Nov','Dec']\n",
    "    k=[]\n",
    "    at_mon_wise=[]\n",
    "    for i in l:\n",
    "        k.append(m[i])\n",
    "        dt_mon=dt[dt.date.dt.month==i]\n",
    "        #Initialise an empty timedelta object\n",
    "        s=datetime.timedelta(hours=int(0), minutes=int(0), seconds=int(0))\n",
    "        for idx,row in dt_mon.iterrows():\n",
    "            s=s+row['Actual_Talk_Time']\n",
    "       # print(s)\n",
    "        at_mon_wise.append(round(s/np.timedelta64(1, 'h')))\n",
    "    stats=pd.DataFrame({'month':k,'talktime_percentage':at_mon_wise})\n",
    "    stats['talktime_percentage']=round(stats['talktime_percentage']*100/sum(at_mon_wise))\n",
    "    pd.options.mode.chained_assignment = \"warn\"\n",
    "    return stats,sum(at_mon_wise)\n",
    "\n",
    "#Number of calls monthwise \n",
    "def get_monthwise_stats(df):\n",
    "    l=pd.unique(df.date.dt.month)\n",
    "    l=sorted(l)\n",
    "    m=['NO_MONTH','Jan','Feb','Mar','Apr','May','Jun','Jul','Aug','Sept','Oct','Nov','Dec']\n",
    "    k=[]\n",
    "    call_count_mon_wise=[]\n",
    "    for i in l:\n",
    "        k.append(m[i])\n",
    "        call_count_mon_wise.append(df[df.date.dt.month==i].sum().counts)\n",
    "    s=sum(call_count_mon_wise)\n",
    "    stats=pd.DataFrame({'month':k,'call_number_percentage':call_count_mon_wise})\n",
    "    stats['call_number_percentage']=round(stats['call_number_percentage']*100/s)\n",
    "    stats=stats.reset_index(drop=True)\n",
    "    return stats\n",
    "\n",
    "#Takes top 3 months from every year which are having max and least number of calls and returned by m and l variable respectively\n",
    "def get_top_max_least_values(*dfs,based_on_col,col_to_get):\n",
    "    l=[]\n",
    "    for df in dfs:\n",
    "        l=l+get_top_three(df.sort_values(based_on_col).reset_index(drop=True),based_on_col,col_to_get)\n",
    "    l=pd.DataFrame({col_to_get:l})\n",
    "    l=l.groupby(col_to_get).size().reset_index(name='percentage')\n",
    "    l['percentage']=round(l['percentage']*100/len(dfs),2)\n",
    "    l=l.sort_values('percentage',ascending=False)\n",
    "    l=l.reset_index(drop=True)\n",
    "    l['label']=l[col_to_get].astype(str)+':'+l['percentage'].astype(str)+'%'\n",
    "    #print(l,'L')\n",
    "    m=[]\n",
    "    for df in dfs:\n",
    "        m=m+get_top_three(df.sort_values(based_on_col,ascending=[False]).reset_index(drop=True),based_on_col,col_to_get)\n",
    "    m=pd.DataFrame({col_to_get:m})\n",
    "    m=m.groupby(col_to_get).size().reset_index(name='percentage')\n",
    "    m['percentage']=round(m['percentage']*100/len(dfs),2)\n",
    "    m=m.sort_values('percentage',ascending=False)\n",
    "    m=m.reset_index(drop=True)\n",
    "    m['label']=m[col_to_get].astype(str)+':'+m['percentage'].astype(str)+'%'\n",
    "    return m,l\n",
    "\n",
    "def time_spent_plotter(df):\n",
    "    sns.barplot(x=\"month\", y=\"talk_time\", data=df, palette=get_colors_for_values(df['talk_time'], \"YlOrRd\"));\n",
    "\n",
    "def get_colors_for_values(values, palette_name):\n",
    "    normalized = (values - min(values)) / (max(values) - min(values))\n",
    "    indices = np.round(normalized * (len(values) - 1)).astype(np.int32)\n",
    "    palette = sns.color_palette(palette_name, len(values))\n",
    "    return np.array(palette).take(indices, axis=0)\n",
    "\n",
    "def get_counts_of_calls_everyday(df):\n",
    "    dt=df.groupby(['date']).size().reset_index(name='counts')\n",
    "    return dt\n",
    "\n",
    "#def check_if_poisson(df):\n",
    "def normalize(df):\n",
    "    return(df-df.min())/(df.max()-df.min())\n",
    "def confidence_interval(data, confidence=0.95):\n",
    "    a = 1.0 * np.array(data)\n",
    "    n = len(a)\n",
    "    m, se = np.mean(a), scipy.stats.sem(a)\n",
    "    h = se * scipy.stats.t.ppf((1 + confidence) / 2., n-1)\n",
    "    return (round(float(m-h),2),round(float(m),2),round(float(m+h),2))\n",
    "def outlier_rem(df):\n",
    "    flag=True\n",
    "    # As it is having outliers which is of kind like when one outlier is removed then with new standard dev another outlier \n",
    "    # is spotted so to handle that while loop is added , further dbscan can be taken into consideration \n",
    "    while(flag):\n",
    "        flag=False\n",
    "        x=df['Queue_Time(Secs)']\n",
    "        std=st.stdev(x)\n",
    "        m=x.mean()\n",
    "        lower=m-3.5*std\n",
    "        upper=m+3.5*std\n",
    "        #If you will print index \"i\" it will not be the expected one as index of df passed here \n",
    "        #but its not the case in this series becoz thats a subset of df passed but this functionlity will work fine as its \n",
    "        #not dependedent on that.\n",
    "        idx=[]\n",
    "        for i  in range(0,x.shape[0]):\n",
    "            if x.iloc[i]<lower or x.iloc[i]>upper:\n",
    "                idx.append(i)\n",
    "                flag=True\n",
    "        df=df.drop(df.index[idx])\n",
    "    return df\n",
    "def get_monthly_callstatus_stats(df):\n",
    "    df=df.dropna(subset=['date'])\n",
    "    dt=df[df.Call_Status.isin(['answered','abandon'])]\n",
    "    dt=df[['date','Call_Status']].copy()\n",
    "    dt['month']=df.date.dt.month\n",
    "    dt=dt.groupby(['month','Call_Status']).size().reset_index(name='counts')\n",
    "    l=pd.unique(df.date.dt.month)\n",
    "    l=sorted(l)\n",
    "    m=['NO_MONTH','Jan','Feb','Mar','Apr','May','Jun','Jul','Aug','Sept','Oct','Nov','Dec']\n",
    "    k=[]\n",
    "    dt_ans=dt[dt['Call_Status']=='answered']\n",
    "    dt_abn=dt[dt['Call_Status']=='abandon']\n",
    "    #call_count_ans=[]\n",
    "    call_count_abn=[]\n",
    "    for i in l:\n",
    "        k.append(m[int(i)])\n",
    "        x_ans=dt_ans[dt_ans['month']==int(i)]\n",
    "        x_abn=dt_abn[dt_abn['month']==int(i)]\n",
    "    #    call_count_ans.append(int(x_ans['counts'])*100/(int(x_ans['counts'])+int(x_abn['counts'])))\n",
    "        call_count_abn.append(int(x_abn['counts'])*100/(int(x_ans['counts'])+int(x_abn['counts'])))\n",
    "    #s_ans=sum(call_count_ans)\n",
    "    s_abn=sum(call_count_abn)\n",
    "    #stats_ans=pd.DataFrame({'month':k,'percentage_answered_calls':call_count_ans})\n",
    "    #stats_ans['percentage_answered_calls']=round(stats_ans['percentage_answered_calls'],2)\n",
    "    #stats_ans=stats_ans.reset_index(drop=True)\n",
    "    stats_abn=pd.DataFrame({'month':k,'percentage_unanswered_calls':call_count_abn})\n",
    "    stats_abn['percentage_unanswered_calls']=round(stats_abn['percentage_unanswered_calls'])\n",
    "    stats_abn=stats_abn.reset_index(drop=True)\n",
    "    stats_abn['label']=stats_abn['month']+':'+stats_abn['percentage_unanswered_calls'].astype(str)+'%'\n",
    "    return  stats_abn    \n",
    "\n",
    "def plot_treemap(df,col_based_on,label,title):\n",
    "    squarify.plot(sizes=df[col_based_on], label=df[label], alpha=.7 )\n",
    "    plt.axis('off')\n",
    "    plt.title(title) \n",
    "    plt.show()\n",
    "\n",
    "def plot_treemap_sidebyside(df1,df2,col_based_on,label,title1,title2):\n",
    "    plt.figure(num=None, figsize=(14.3, 4), dpi=80, facecolor='w', edgecolor='k')\n",
    "    plt.subplot(1, 2, 1)\n",
    "    squarify.plot(sizes=df1[col_based_on], label=df1[label], alpha=.7 )\n",
    "    plt.axis('off')\n",
    "    plt.title(title1) \n",
    "    plt.subplot(1, 2, 2)\n",
    "    squarify.plot(sizes=df2[col_based_on], label=df2[label], alpha=.7 )\n",
    "    plt.axis('off')\n",
    "    plt.title(title2) \n",
    "\n",
    "    plt.show()  \n",
    "    \n",
    "def plot_queuetime_stats(*dfs):\n",
    "    for df in dfs:\n",
    "        df=pd.concat([df[['Queue_Time(Secs)','Call_Status']]])\n",
    "    df_unans=df[df['Call_Status']=='abandon']\n",
    "    count=np.zeros(4)\n",
    "    size=df_unans['Queue_Time(Secs)'].shape[0]\n",
    "    for i in df_unans['Queue_Time(Secs)']:\n",
    "        if i > 50 and i <= 60:\n",
    "            count[3]+=1\n",
    "        elif i>40 and i<=50:\n",
    "            count[2]+=1\n",
    "        elif i>20 and i<=40:\n",
    "            count[1]+=1\n",
    "        elif i>0 and i<=20:\n",
    "            count[0]+=1\n",
    "    qt_per=np.round(count*100/size, 2)\n",
    "    l=['0s to 20s','20s to 40s','40s to 50s','50s to 60s']\n",
    "    qt=pd.DataFrame({'label':l,'queuetime':qt_per})\n",
    "    qt['label']=qt['label'].astype(str)+': '+qt['queuetime'].astype(str)+'%'\n",
    "    plt.figure( figsize=(8, 5))\n",
    "    squarify.plot(sizes=qt['queuetime'], label=qt['label'], alpha=.7 )\n",
    "    plt.axis('off')\n",
    "    plt.title(\"Wait time(sec) before a person cuts the call\") \n",
    "    plt.show()\n",
    "    #return qt\n",
    "    \n",
    "def get_top_three(df,based_on_col,col_to_get):\n",
    "    m=df[based_on_col][0]\n",
    "    m_list=[]\n",
    "    m_list.append(df[col_to_get][0])\n",
    "    count=1\n",
    "    for i in range(1,len(df)):\n",
    "        if count==3:\n",
    "            break\n",
    "        if df[based_on_col][i]!=m:\n",
    "            m=i\n",
    "            m_list.append(df[col_to_get][i])\n",
    "            count+=1\n",
    "\n",
    "    return m_list"
   ]
  },
  {
   "cell_type": "code",
   "execution_count": 3,
   "metadata": {},
   "outputs": [],
   "source": [
    "pd.set_option('display.max_columns', None)\n",
    "xls20 = pd.ExcelFile('E:/Documents/Python/2020/vhl2020.xlsx')\n",
    "xls19 = pd.ExcelFile('E:/Documents/Python/2020/vhl2019.xlsx')\n",
    "xls18 = pd.ExcelFile('E:/Documents/Python/2020/vhl2018.xlsx')\n",
    "xls17 = pd.ExcelFile('E:/Documents/Python/2020/vhl2017.xlsx')\n",
    "xls16 = pd.ExcelFile('E:/Documents/Python/2020/vhl2016.xlsx')\n",
    "xls15 = pd.ExcelFile('E:/Documents/Python/2020/vhl2015.xlsx')\n",
    "\n",
    "d2f20=pd.read_excel(xls20, 1)\n",
    "d2f19=pd.read_excel(xls19, 1)\n",
    "d2f18=pd.read_excel(xls18, 1)\n",
    "d2f17=pd.read_excel(xls17, 1)\n",
    "d2f16=pd.read_excel(xls16, 1)\n",
    "d2f15=pd.read_excel(xls15, 1)\n"
   ]
  },
  {
   "cell_type": "code",
   "execution_count": 4,
   "metadata": {},
   "outputs": [],
   "source": [
    "#Preproccessed data for all type of further analysis\n",
    "dt20=preprocessing_d_w(d2f20)\n",
    "dt19=preprocessing_d_w(d2f19)\n",
    "dt18=preprocessing_d_w(d2f18)\n",
    "dt17=preprocessing_d_w(d2f17)\n",
    "dt16=preprocessing_d_w(d2f16)\n",
    "dt15=preprocessing_d_w(d2f15)"
   ]
  },
  {
   "cell_type": "code",
   "execution_count": 5,
   "metadata": {},
   "outputs": [],
   "source": [
    "#This dataset can be used for analysis related to number of calls\n",
    "df_c20=get_counts_of_calls_everyday(dt20)\n",
    "df_c19=get_counts_of_calls_everyday(dt19)\n",
    "df_c18=get_counts_of_calls_everyday(dt18)\n",
    "df_c17=get_counts_of_calls_everyday(dt17)\n",
    "df_c16=get_counts_of_calls_everyday(dt16)\n",
    "df_c15=get_counts_of_calls_everyday(dt15)"
   ]
  },
  {
   "cell_type": "code",
   "execution_count": 6,
   "metadata": {},
   "outputs": [],
   "source": [
    "#Actual talk time related data returns talktime_percentage monthwise\n",
    "at_20,tt_20=get_time_spent(dt20)\n",
    "at_19,tt_19=get_time_spent(dt19)\n",
    "at_18,tt_18=get_time_spent(dt18)\n",
    "at_17,tt_17=get_time_spent(dt17)\n",
    "at_16,tt_16=get_time_spent(dt16)\n",
    "at_15,tt_15=get_time_spent(dt15)"
   ]
  },
  {
   "cell_type": "code",
   "execution_count": 7,
   "metadata": {},
   "outputs": [],
   "source": [
    "#Outliers removed for queue time analysis\n",
    "qt_20=outlier_rem(dt20)\n",
    "qt_19=outlier_rem(dt19)\n",
    "qt_18=outlier_rem(dt18)\n",
    "qt_17=outlier_rem(dt17)\n",
    "qt_16=outlier_rem(dt16)\n",
    "qt_15=outlier_rem(dt15)"
   ]
  },
  {
   "cell_type": "code",
   "execution_count": 8,
   "metadata": {},
   "outputs": [],
   "source": [
    "#Ans unans\n",
    "unans_m,unans_l=get_top_max_least_values(get_monthly_callstatus_stats(dt20),get_monthly_callstatus_stats(dt19),get_monthly_callstatus_stats(dt18),get_monthly_callstatus_stats(dt17),get_monthly_callstatus_stats(dt16),get_monthly_callstatus_stats(dt15),based_on_col='percentage_unanswered_calls',col_to_get='month')"
   ]
  },
  {
   "cell_type": "code",
   "execution_count": 15,
   "metadata": {},
   "outputs": [],
   "source": [
    "#Most and least number of calls \n",
    "nc_m,nc_l=get_top_max_least_values(get_monthwise_stats(df_c20),get_monthwise_stats(df_c19),get_monthwise_stats(df_c18),get_monthwise_stats(df_c17),get_monthwise_stats(df_c16),get_monthwise_stats(df_c15),based_on_col='call_number_percentage',col_to_get='month')\n",
    "#Most and least talktime\n",
    "att_m,att_l=get_top_max_least_values(at_20,at_19,at_18,at_17,at_16,at_15,based_on_col='talktime_percentage',col_to_get='month')"
   ]
  },
  {
   "cell_type": "code",
   "execution_count": 961,
   "metadata": {},
   "outputs": [],
   "source": [
    "a=get_monthwise_stats(df_c20)\n",
    "b=get_monthwise_stats(df_c19)\n",
    "c=get_monthwise_stats(df_c18)\n",
    "d=get_monthwise_stats(df_c17)\n",
    "e=get_monthwise_stats(df_c16)\n",
    "f=get_monthwise_stats(df_c15)"
   ]
  },
  {
   "cell_type": "code",
   "execution_count": 167,
   "metadata": {},
   "outputs": [],
   "source": [
    "total_calls=[]\n",
    "\n",
    "total_unanswered_calls=[]\n",
    "\n",
    "total_qt=[sum(qt_20['Queue_Time(Secs)']/3600),sum(qt_19['Queue_Time(Secs)']/3600),sum(qt_18['Queue_Time(Secs)']/3600),sum(qt_17['Queue_Time(Secs)']/3600),sum(qt_16['Queue_Time(Secs)']/3600),sum(qt_15['Queue_Time(Secs)']/3600)]\n",
    "\n",
    "total_unans_qt=[sum(qt_20[qt_20['Call_Status']=='abandon']['Queue_Time(Secs)'])/3600,sum(qt_19[qt_19['Call_Status']=='abandon']['Queue_Time(Secs)'])/3600,sum(qt_18[qt_18['Call_Status']=='abandon']['Queue_Time(Secs)'])/3600,sum(qt_17[qt_17['Call_Status']=='abandon']['Queue_Time(Secs)'])/3600,sum(qt_16[qt_16['Call_Status']=='abandon']['Queue_Time(Secs)'])/3600,sum(qt_15[qt_15['Call_Status']=='abandon']['Queue_Time(Secs)'])/3600]\n",
    "\n",
    "year=['2020','2019','2018','2017','2016','2015']\n",
    "\n",
    "total_tt=[tt_20,tt_19,tt_18,tt_17,tt_16,tt_15]\n",
    "\n",
    "for df in [dt20,dt19,dt18,dt17,dt16,dt15]:\n",
    "    total_unanswered_calls.append(sum(df['Call_Status']=='abandon'))\n",
    "    \n",
    "for df in [df_c20,df_c19,df_c18,df_c17,df_c16,df_c15]:\n",
    "    total_calls.append(sum(df['counts']))\n",
    "\n",
    "for i in range(6):\n",
    "    total_unanswered_calls[i]=round(total_unanswered_calls[i]*100/total_calls[i],2)\n",
    "    total_unans_qt[i]=round(total_unans_qt[i]*100/total_qt[i],2)\n",
    "    total_qt[i]=round(total_qt[i])\n",
    "    \n",
    "df_calls=pd.DataFrame({'year':year,'total_calls':total_calls,'total_unanswered_calls':total_unanswered_calls,'total_queue_time':total_qt,'total_unans_qt':total_unans_qt})\n",
    "df_talktime=pd.DataFrame({'year':year,'total_talktime':total_tt})\n",
    "df_queuetime=pd.DataFrame({'year':year,'total_queue_time':total_qt,'total_unans_qt':total_unans_qt})\n",
    "\n",
    "df_calls[\"label\"] = \"Yearly number of calls\"\n",
    "df_calls['total_calls_label']='Total calls: '+df_calls['total_calls'].astype(str)\n",
    "df_calls['year']='Year: '+df_calls['year'].astype(str)\n",
    "df_calls['total_unanswered_calls']='Total unanswered calls: '+df_calls['total_unanswered_calls'].astype(str)+'%'\n",
    "df_talktime['total_talktime_label']='Total talktime: '+df_talktime['total_talktime'].astype(str)+' hrs'\n",
    "df_talktime['label']='Yearly talk time in hours'\n",
    "df_talktime['year']='Year: '+df_talktime['year'].astype(str)\n",
    "df_queuetime['label']='Yearly queue time in hours'\n",
    "df_queuetime['year']='Year: '+df_queuetime['year'].astype(str)\n",
    "df_queuetime['total_queue_time_label']='Total queue time: '+df_queuetime['total_queue_time'].astype(str)+' hrs'\n",
    "df_queuetime['total_unans_qt']='Q.T. Unans calls: '+df_queuetime['total_unans_qt'].astype(str)+'%'"
   ]
  },
  {
   "cell_type": "code",
   "execution_count": 10,
   "metadata": {},
   "outputs": [],
   "source": [
    "#dims = (15, 18)\n",
    "#colors=get_colors_for_values(at_20['talktime_percentage'], \"YlOrRd\")\n",
    "#fig, ax =plt.subplots(nrows=3, ncols=2,figsize=dims)\n",
    "#ax[0,0].set_facecolor('xkcd:salmon')\n",
    "#ax[0,0].set_facecolor((.204, 0, .82))\n",
    "#sns.barplot(x=\"month\", y=\"talktime_percentage\", data=at_20, palette=colors,ax=ax[0,0]).set_title(\"2020\");\n",
    "#sns.barplot(x=\"month\", y=\"talktime_percentage\", data=at_19, palette=colors,ax=ax[0,1]).set_title(\"2019\");\n",
    "#sns.barplot(x=\"month\", y=\"talktime_percentage\", data=at_18, palette=colors,ax=ax[1,0]).set_title(\"2018\");\n",
    "#sns.barplot(x=\"month\", y=\"talktime_percentage\", data=at_17, palette=colors,ax=ax[1,1]).set_title(\"2017\");\n",
    "#sns.barplot(x=\"month\", y=\"talktime_percentage\", data=at_16, palette=colors,ax=ax[2,0]).set_title(\"2016\");\n",
    "#sns.barplot(x=\"month\", y=\"talktime_percentage\", data=at_15, palette=colors,ax=ax[2,1]).set_title(\"2015\");\n"
   ]
  },
  {
   "cell_type": "markdown",
   "metadata": {},
   "source": [
    "# Analysis based on VHL data from 2015-2020\n",
    "\n",
    "In this report the analysis is done on the data of Vidya Helpline in which data from January of $2015$ till the August of $2020$ is used. Various call related fields like number of calls, talk time used, number of unanswered calls and queue time are analysed as part of it.\n",
    "\n"
   ]
  },
  {
   "cell_type": "markdown",
   "metadata": {},
   "source": [
    "## Visualization of data on yearly basis"
   ]
  },
  {
   "cell_type": "markdown",
   "metadata": {},
   "source": [
    "### Number of calls every year\n",
    "Here visualization of total number of calls and percentage of unanswered calls is done. "
   ]
  },
  {
   "cell_type": "code",
   "execution_count": 218,
   "metadata": {},
   "outputs": [
    {
     "data": {
      "application/vnd.plotly.v1+json": {
       "config": {
        "plotlyServerURL": "https://plot.ly"
       },
       "data": [
        {
         "branchvalues": "total",
         "customdata": [
          [
           66205
          ],
          [
           30007
          ],
          [
           35765
          ],
          [
           50026
          ],
          [
           65098
          ],
          [
           51116
          ],
          [
           30007
          ],
          [
           35765
          ],
          [
           50026
          ],
          [
           51116
          ],
          [
           65098
          ],
          [
           66205
          ],
          [
           65098
          ],
          [
           51116
          ],
          [
           50026
          ],
          [
           35765
          ],
          [
           66205
          ],
          [
           30007
          ],
          [
           53370.03938407267
          ]
         ],
         "domain": {
          "x": [
           0,
           1
          ],
          "y": [
           0,
           1
          ]
         },
         "hovertemplate": "labels=%{label}<br>total_calls_sum=%{value}<br>parent=%{parent}<br>id=%{id}<br>total_calls=%{color}<extra></extra>",
         "ids": [
          "Yearly number of calls/Year: 2019/Total calls: 66205/Total unanswered calls: 27.79%",
          "Yearly number of calls/Year: 2020/Total calls: 30007/Total unanswered calls: 28.06%",
          "Yearly number of calls/Year: 2018/Total calls: 35765/Total unanswered calls: 29.5%",
          "Yearly number of calls/Year: 2017/Total calls: 50026/Total unanswered calls: 30.94%",
          "Yearly number of calls/Year: 2015/Total calls: 65098/Total unanswered calls: 31.65%",
          "Yearly number of calls/Year: 2016/Total calls: 51116/Total unanswered calls: 9.44%",
          "Yearly number of calls/Year: 2020/Total calls: 30007",
          "Yearly number of calls/Year: 2018/Total calls: 35765",
          "Yearly number of calls/Year: 2017/Total calls: 50026",
          "Yearly number of calls/Year: 2016/Total calls: 51116",
          "Yearly number of calls/Year: 2015/Total calls: 65098",
          "Yearly number of calls/Year: 2019/Total calls: 66205",
          "Yearly number of calls/Year: 2015",
          "Yearly number of calls/Year: 2016",
          "Yearly number of calls/Year: 2017",
          "Yearly number of calls/Year: 2018",
          "Yearly number of calls/Year: 2019",
          "Yearly number of calls/Year: 2020",
          "Yearly number of calls"
         ],
         "labels": [
          "Total unanswered calls: 27.79%",
          "Total unanswered calls: 28.06%",
          "Total unanswered calls: 29.5%",
          "Total unanswered calls: 30.94%",
          "Total unanswered calls: 31.65%",
          "Total unanswered calls: 9.44%",
          "Total calls: 30007",
          "Total calls: 35765",
          "Total calls: 50026",
          "Total calls: 51116",
          "Total calls: 65098",
          "Total calls: 66205",
          "Year: 2015",
          "Year: 2016",
          "Year: 2017",
          "Year: 2018",
          "Year: 2019",
          "Year: 2020",
          "Yearly number of calls"
         ],
         "marker": {
          "coloraxis": "coloraxis",
          "colors": [
           66205,
           30007,
           35765,
           50026,
           65098,
           51116,
           30007,
           35765,
           50026,
           51116,
           65098,
           66205,
           65098,
           51116,
           50026,
           35765,
           66205,
           30007,
           53370.03938407267
          ]
         },
         "name": "",
         "parents": [
          "Yearly number of calls/Year: 2019/Total calls: 66205",
          "Yearly number of calls/Year: 2020/Total calls: 30007",
          "Yearly number of calls/Year: 2018/Total calls: 35765",
          "Yearly number of calls/Year: 2017/Total calls: 50026",
          "Yearly number of calls/Year: 2015/Total calls: 65098",
          "Yearly number of calls/Year: 2016/Total calls: 51116",
          "Yearly number of calls/Year: 2020",
          "Yearly number of calls/Year: 2018",
          "Yearly number of calls/Year: 2017",
          "Yearly number of calls/Year: 2016",
          "Yearly number of calls/Year: 2015",
          "Yearly number of calls/Year: 2019",
          "Yearly number of calls",
          "Yearly number of calls",
          "Yearly number of calls",
          "Yearly number of calls",
          "Yearly number of calls",
          "Yearly number of calls",
          ""
         ],
         "type": "treemap",
         "values": [
          66205,
          30007,
          35765,
          50026,
          65098,
          51116,
          30007,
          35765,
          50026,
          51116,
          65098,
          66205,
          65098,
          51116,
          50026,
          35765,
          66205,
          30007,
          298217
         ]
        }
       ],
       "layout": {
        "coloraxis": {
         "colorbar": {
          "title": {
           "text": "total_calls"
          }
         },
         "colorscale": [
          [
           0,
           "rgb(3, 5, 18)"
          ],
          [
           0.09090909090909091,
           "rgb(25, 25, 51)"
          ],
          [
           0.18181818181818182,
           "rgb(44, 42, 87)"
          ],
          [
           0.2727272727272727,
           "rgb(58, 60, 125)"
          ],
          [
           0.36363636363636365,
           "rgb(62, 83, 160)"
          ],
          [
           0.45454545454545453,
           "rgb(62, 109, 178)"
          ],
          [
           0.5454545454545454,
           "rgb(72, 134, 187)"
          ],
          [
           0.6363636363636364,
           "rgb(89, 159, 196)"
          ],
          [
           0.7272727272727273,
           "rgb(114, 184, 205)"
          ],
          [
           0.8181818181818182,
           "rgb(149, 207, 216)"
          ],
          [
           0.9090909090909091,
           "rgb(192, 229, 232)"
          ],
          [
           1,
           "rgb(234, 252, 253)"
          ]
         ]
        },
        "legend": {
         "tracegroupgap": 0
        },
        "margin": {
         "t": 60
        },
        "template": {
         "data": {
          "bar": [
           {
            "error_x": {
             "color": "#2a3f5f"
            },
            "error_y": {
             "color": "#2a3f5f"
            },
            "marker": {
             "line": {
              "color": "#E5ECF6",
              "width": 0.5
             }
            },
            "type": "bar"
           }
          ],
          "barpolar": [
           {
            "marker": {
             "line": {
              "color": "#E5ECF6",
              "width": 0.5
             }
            },
            "type": "barpolar"
           }
          ],
          "carpet": [
           {
            "aaxis": {
             "endlinecolor": "#2a3f5f",
             "gridcolor": "white",
             "linecolor": "white",
             "minorgridcolor": "white",
             "startlinecolor": "#2a3f5f"
            },
            "baxis": {
             "endlinecolor": "#2a3f5f",
             "gridcolor": "white",
             "linecolor": "white",
             "minorgridcolor": "white",
             "startlinecolor": "#2a3f5f"
            },
            "type": "carpet"
           }
          ],
          "choropleth": [
           {
            "colorbar": {
             "outlinewidth": 0,
             "ticks": ""
            },
            "type": "choropleth"
           }
          ],
          "contour": [
           {
            "colorbar": {
             "outlinewidth": 0,
             "ticks": ""
            },
            "colorscale": [
             [
              0,
              "#0d0887"
             ],
             [
              0.1111111111111111,
              "#46039f"
             ],
             [
              0.2222222222222222,
              "#7201a8"
             ],
             [
              0.3333333333333333,
              "#9c179e"
             ],
             [
              0.4444444444444444,
              "#bd3786"
             ],
             [
              0.5555555555555556,
              "#d8576b"
             ],
             [
              0.6666666666666666,
              "#ed7953"
             ],
             [
              0.7777777777777778,
              "#fb9f3a"
             ],
             [
              0.8888888888888888,
              "#fdca26"
             ],
             [
              1,
              "#f0f921"
             ]
            ],
            "type": "contour"
           }
          ],
          "contourcarpet": [
           {
            "colorbar": {
             "outlinewidth": 0,
             "ticks": ""
            },
            "type": "contourcarpet"
           }
          ],
          "heatmap": [
           {
            "colorbar": {
             "outlinewidth": 0,
             "ticks": ""
            },
            "colorscale": [
             [
              0,
              "#0d0887"
             ],
             [
              0.1111111111111111,
              "#46039f"
             ],
             [
              0.2222222222222222,
              "#7201a8"
             ],
             [
              0.3333333333333333,
              "#9c179e"
             ],
             [
              0.4444444444444444,
              "#bd3786"
             ],
             [
              0.5555555555555556,
              "#d8576b"
             ],
             [
              0.6666666666666666,
              "#ed7953"
             ],
             [
              0.7777777777777778,
              "#fb9f3a"
             ],
             [
              0.8888888888888888,
              "#fdca26"
             ],
             [
              1,
              "#f0f921"
             ]
            ],
            "type": "heatmap"
           }
          ],
          "heatmapgl": [
           {
            "colorbar": {
             "outlinewidth": 0,
             "ticks": ""
            },
            "colorscale": [
             [
              0,
              "#0d0887"
             ],
             [
              0.1111111111111111,
              "#46039f"
             ],
             [
              0.2222222222222222,
              "#7201a8"
             ],
             [
              0.3333333333333333,
              "#9c179e"
             ],
             [
              0.4444444444444444,
              "#bd3786"
             ],
             [
              0.5555555555555556,
              "#d8576b"
             ],
             [
              0.6666666666666666,
              "#ed7953"
             ],
             [
              0.7777777777777778,
              "#fb9f3a"
             ],
             [
              0.8888888888888888,
              "#fdca26"
             ],
             [
              1,
              "#f0f921"
             ]
            ],
            "type": "heatmapgl"
           }
          ],
          "histogram": [
           {
            "marker": {
             "colorbar": {
              "outlinewidth": 0,
              "ticks": ""
             }
            },
            "type": "histogram"
           }
          ],
          "histogram2d": [
           {
            "colorbar": {
             "outlinewidth": 0,
             "ticks": ""
            },
            "colorscale": [
             [
              0,
              "#0d0887"
             ],
             [
              0.1111111111111111,
              "#46039f"
             ],
             [
              0.2222222222222222,
              "#7201a8"
             ],
             [
              0.3333333333333333,
              "#9c179e"
             ],
             [
              0.4444444444444444,
              "#bd3786"
             ],
             [
              0.5555555555555556,
              "#d8576b"
             ],
             [
              0.6666666666666666,
              "#ed7953"
             ],
             [
              0.7777777777777778,
              "#fb9f3a"
             ],
             [
              0.8888888888888888,
              "#fdca26"
             ],
             [
              1,
              "#f0f921"
             ]
            ],
            "type": "histogram2d"
           }
          ],
          "histogram2dcontour": [
           {
            "colorbar": {
             "outlinewidth": 0,
             "ticks": ""
            },
            "colorscale": [
             [
              0,
              "#0d0887"
             ],
             [
              0.1111111111111111,
              "#46039f"
             ],
             [
              0.2222222222222222,
              "#7201a8"
             ],
             [
              0.3333333333333333,
              "#9c179e"
             ],
             [
              0.4444444444444444,
              "#bd3786"
             ],
             [
              0.5555555555555556,
              "#d8576b"
             ],
             [
              0.6666666666666666,
              "#ed7953"
             ],
             [
              0.7777777777777778,
              "#fb9f3a"
             ],
             [
              0.8888888888888888,
              "#fdca26"
             ],
             [
              1,
              "#f0f921"
             ]
            ],
            "type": "histogram2dcontour"
           }
          ],
          "mesh3d": [
           {
            "colorbar": {
             "outlinewidth": 0,
             "ticks": ""
            },
            "type": "mesh3d"
           }
          ],
          "parcoords": [
           {
            "line": {
             "colorbar": {
              "outlinewidth": 0,
              "ticks": ""
             }
            },
            "type": "parcoords"
           }
          ],
          "pie": [
           {
            "automargin": true,
            "type": "pie"
           }
          ],
          "scatter": [
           {
            "marker": {
             "colorbar": {
              "outlinewidth": 0,
              "ticks": ""
             }
            },
            "type": "scatter"
           }
          ],
          "scatter3d": [
           {
            "line": {
             "colorbar": {
              "outlinewidth": 0,
              "ticks": ""
             }
            },
            "marker": {
             "colorbar": {
              "outlinewidth": 0,
              "ticks": ""
             }
            },
            "type": "scatter3d"
           }
          ],
          "scattercarpet": [
           {
            "marker": {
             "colorbar": {
              "outlinewidth": 0,
              "ticks": ""
             }
            },
            "type": "scattercarpet"
           }
          ],
          "scattergeo": [
           {
            "marker": {
             "colorbar": {
              "outlinewidth": 0,
              "ticks": ""
             }
            },
            "type": "scattergeo"
           }
          ],
          "scattergl": [
           {
            "marker": {
             "colorbar": {
              "outlinewidth": 0,
              "ticks": ""
             }
            },
            "type": "scattergl"
           }
          ],
          "scattermapbox": [
           {
            "marker": {
             "colorbar": {
              "outlinewidth": 0,
              "ticks": ""
             }
            },
            "type": "scattermapbox"
           }
          ],
          "scatterpolar": [
           {
            "marker": {
             "colorbar": {
              "outlinewidth": 0,
              "ticks": ""
             }
            },
            "type": "scatterpolar"
           }
          ],
          "scatterpolargl": [
           {
            "marker": {
             "colorbar": {
              "outlinewidth": 0,
              "ticks": ""
             }
            },
            "type": "scatterpolargl"
           }
          ],
          "scatterternary": [
           {
            "marker": {
             "colorbar": {
              "outlinewidth": 0,
              "ticks": ""
             }
            },
            "type": "scatterternary"
           }
          ],
          "surface": [
           {
            "colorbar": {
             "outlinewidth": 0,
             "ticks": ""
            },
            "colorscale": [
             [
              0,
              "#0d0887"
             ],
             [
              0.1111111111111111,
              "#46039f"
             ],
             [
              0.2222222222222222,
              "#7201a8"
             ],
             [
              0.3333333333333333,
              "#9c179e"
             ],
             [
              0.4444444444444444,
              "#bd3786"
             ],
             [
              0.5555555555555556,
              "#d8576b"
             ],
             [
              0.6666666666666666,
              "#ed7953"
             ],
             [
              0.7777777777777778,
              "#fb9f3a"
             ],
             [
              0.8888888888888888,
              "#fdca26"
             ],
             [
              1,
              "#f0f921"
             ]
            ],
            "type": "surface"
           }
          ],
          "table": [
           {
            "cells": {
             "fill": {
              "color": "#EBF0F8"
             },
             "line": {
              "color": "white"
             }
            },
            "header": {
             "fill": {
              "color": "#C8D4E3"
             },
             "line": {
              "color": "white"
             }
            },
            "type": "table"
           }
          ]
         },
         "layout": {
          "annotationdefaults": {
           "arrowcolor": "#2a3f5f",
           "arrowhead": 0,
           "arrowwidth": 1
          },
          "coloraxis": {
           "colorbar": {
            "outlinewidth": 0,
            "ticks": ""
           }
          },
          "colorscale": {
           "diverging": [
            [
             0,
             "#8e0152"
            ],
            [
             0.1,
             "#c51b7d"
            ],
            [
             0.2,
             "#de77ae"
            ],
            [
             0.3,
             "#f1b6da"
            ],
            [
             0.4,
             "#fde0ef"
            ],
            [
             0.5,
             "#f7f7f7"
            ],
            [
             0.6,
             "#e6f5d0"
            ],
            [
             0.7,
             "#b8e186"
            ],
            [
             0.8,
             "#7fbc41"
            ],
            [
             0.9,
             "#4d9221"
            ],
            [
             1,
             "#276419"
            ]
           ],
           "sequential": [
            [
             0,
             "#0d0887"
            ],
            [
             0.1111111111111111,
             "#46039f"
            ],
            [
             0.2222222222222222,
             "#7201a8"
            ],
            [
             0.3333333333333333,
             "#9c179e"
            ],
            [
             0.4444444444444444,
             "#bd3786"
            ],
            [
             0.5555555555555556,
             "#d8576b"
            ],
            [
             0.6666666666666666,
             "#ed7953"
            ],
            [
             0.7777777777777778,
             "#fb9f3a"
            ],
            [
             0.8888888888888888,
             "#fdca26"
            ],
            [
             1,
             "#f0f921"
            ]
           ],
           "sequentialminus": [
            [
             0,
             "#0d0887"
            ],
            [
             0.1111111111111111,
             "#46039f"
            ],
            [
             0.2222222222222222,
             "#7201a8"
            ],
            [
             0.3333333333333333,
             "#9c179e"
            ],
            [
             0.4444444444444444,
             "#bd3786"
            ],
            [
             0.5555555555555556,
             "#d8576b"
            ],
            [
             0.6666666666666666,
             "#ed7953"
            ],
            [
             0.7777777777777778,
             "#fb9f3a"
            ],
            [
             0.8888888888888888,
             "#fdca26"
            ],
            [
             1,
             "#f0f921"
            ]
           ]
          },
          "colorway": [
           "#636efa",
           "#EF553B",
           "#00cc96",
           "#ab63fa",
           "#FFA15A",
           "#19d3f3",
           "#FF6692",
           "#B6E880",
           "#FF97FF",
           "#FECB52"
          ],
          "font": {
           "color": "#2a3f5f"
          },
          "geo": {
           "bgcolor": "white",
           "lakecolor": "white",
           "landcolor": "#E5ECF6",
           "showlakes": true,
           "showland": true,
           "subunitcolor": "white"
          },
          "hoverlabel": {
           "align": "left"
          },
          "hovermode": "closest",
          "mapbox": {
           "style": "light"
          },
          "paper_bgcolor": "white",
          "plot_bgcolor": "#E5ECF6",
          "polar": {
           "angularaxis": {
            "gridcolor": "white",
            "linecolor": "white",
            "ticks": ""
           },
           "bgcolor": "#E5ECF6",
           "radialaxis": {
            "gridcolor": "white",
            "linecolor": "white",
            "ticks": ""
           }
          },
          "scene": {
           "xaxis": {
            "backgroundcolor": "#E5ECF6",
            "gridcolor": "white",
            "gridwidth": 2,
            "linecolor": "white",
            "showbackground": true,
            "ticks": "",
            "zerolinecolor": "white"
           },
           "yaxis": {
            "backgroundcolor": "#E5ECF6",
            "gridcolor": "white",
            "gridwidth": 2,
            "linecolor": "white",
            "showbackground": true,
            "ticks": "",
            "zerolinecolor": "white"
           },
           "zaxis": {
            "backgroundcolor": "#E5ECF6",
            "gridcolor": "white",
            "gridwidth": 2,
            "linecolor": "white",
            "showbackground": true,
            "ticks": "",
            "zerolinecolor": "white"
           }
          },
          "shapedefaults": {
           "line": {
            "color": "#2a3f5f"
           }
          },
          "ternary": {
           "aaxis": {
            "gridcolor": "white",
            "linecolor": "white",
            "ticks": ""
           },
           "baxis": {
            "gridcolor": "white",
            "linecolor": "white",
            "ticks": ""
           },
           "bgcolor": "#E5ECF6",
           "caxis": {
            "gridcolor": "white",
            "linecolor": "white",
            "ticks": ""
           }
          },
          "title": {
           "x": 0.05
          },
          "xaxis": {
           "automargin": true,
           "gridcolor": "white",
           "linecolor": "white",
           "ticks": "",
           "title": {
            "standoff": 15
           },
           "zerolinecolor": "white",
           "zerolinewidth": 2
          },
          "yaxis": {
           "automargin": true,
           "gridcolor": "white",
           "linecolor": "white",
           "ticks": "",
           "title": {
            "standoff": 15
           },
           "zerolinecolor": "white",
           "zerolinewidth": 2
          }
         }
        }
       }
      },
      "text/html": [
       "<div>                            <div id=\"80e4cf64-71a3-4782-aa30-6e33dd4bcc7e\" class=\"plotly-graph-div\" style=\"height:525px; width:100%;\"></div>            <script type=\"text/javascript\">                require([\"plotly\"], function(Plotly) {                    window.PLOTLYENV=window.PLOTLYENV || {};                                    if (document.getElementById(\"80e4cf64-71a3-4782-aa30-6e33dd4bcc7e\")) {                    Plotly.newPlot(                        \"80e4cf64-71a3-4782-aa30-6e33dd4bcc7e\",                        [{\"branchvalues\": \"total\", \"customdata\": [[66205.0], [30007.0], [35765.0], [50026.0], [65098.0], [51116.0], [30007.0], [35765.0], [50026.0], [51116.0], [65098.0], [66205.0], [65098.0], [51116.0], [50026.0], [35765.0], [66205.0], [30007.0], [53370.03938407267]], \"domain\": {\"x\": [0.0, 1.0], \"y\": [0.0, 1.0]}, \"hovertemplate\": \"labels=%{label}<br>total_calls_sum=%{value}<br>parent=%{parent}<br>id=%{id}<br>total_calls=%{color}<extra></extra>\", \"ids\": [\"Yearly number of calls/Year: 2019/Total calls: 66205/Total unanswered calls: 27.79%\", \"Yearly number of calls/Year: 2020/Total calls: 30007/Total unanswered calls: 28.06%\", \"Yearly number of calls/Year: 2018/Total calls: 35765/Total unanswered calls: 29.5%\", \"Yearly number of calls/Year: 2017/Total calls: 50026/Total unanswered calls: 30.94%\", \"Yearly number of calls/Year: 2015/Total calls: 65098/Total unanswered calls: 31.65%\", \"Yearly number of calls/Year: 2016/Total calls: 51116/Total unanswered calls: 9.44%\", \"Yearly number of calls/Year: 2020/Total calls: 30007\", \"Yearly number of calls/Year: 2018/Total calls: 35765\", \"Yearly number of calls/Year: 2017/Total calls: 50026\", \"Yearly number of calls/Year: 2016/Total calls: 51116\", \"Yearly number of calls/Year: 2015/Total calls: 65098\", \"Yearly number of calls/Year: 2019/Total calls: 66205\", \"Yearly number of calls/Year: 2015\", \"Yearly number of calls/Year: 2016\", \"Yearly number of calls/Year: 2017\", \"Yearly number of calls/Year: 2018\", \"Yearly number of calls/Year: 2019\", \"Yearly number of calls/Year: 2020\", \"Yearly number of calls\"], \"labels\": [\"Total unanswered calls: 27.79%\", \"Total unanswered calls: 28.06%\", \"Total unanswered calls: 29.5%\", \"Total unanswered calls: 30.94%\", \"Total unanswered calls: 31.65%\", \"Total unanswered calls: 9.44%\", \"Total calls: 30007\", \"Total calls: 35765\", \"Total calls: 50026\", \"Total calls: 51116\", \"Total calls: 65098\", \"Total calls: 66205\", \"Year: 2015\", \"Year: 2016\", \"Year: 2017\", \"Year: 2018\", \"Year: 2019\", \"Year: 2020\", \"Yearly number of calls\"], \"marker\": {\"coloraxis\": \"coloraxis\", \"colors\": [66205.0, 30007.0, 35765.0, 50026.0, 65098.0, 51116.0, 30007.0, 35765.0, 50026.0, 51116.0, 65098.0, 66205.0, 65098.0, 51116.0, 50026.0, 35765.0, 66205.0, 30007.0, 53370.03938407267]}, \"name\": \"\", \"parents\": [\"Yearly number of calls/Year: 2019/Total calls: 66205\", \"Yearly number of calls/Year: 2020/Total calls: 30007\", \"Yearly number of calls/Year: 2018/Total calls: 35765\", \"Yearly number of calls/Year: 2017/Total calls: 50026\", \"Yearly number of calls/Year: 2015/Total calls: 65098\", \"Yearly number of calls/Year: 2016/Total calls: 51116\", \"Yearly number of calls/Year: 2020\", \"Yearly number of calls/Year: 2018\", \"Yearly number of calls/Year: 2017\", \"Yearly number of calls/Year: 2016\", \"Yearly number of calls/Year: 2015\", \"Yearly number of calls/Year: 2019\", \"Yearly number of calls\", \"Yearly number of calls\", \"Yearly number of calls\", \"Yearly number of calls\", \"Yearly number of calls\", \"Yearly number of calls\", \"\"], \"type\": \"treemap\", \"values\": [66205, 30007, 35765, 50026, 65098, 51116, 30007, 35765, 50026, 51116, 65098, 66205, 65098, 51116, 50026, 35765, 66205, 30007, 298217]}],                        {\"coloraxis\": {\"colorbar\": {\"title\": {\"text\": \"total_calls\"}}, \"colorscale\": [[0.0, \"rgb(3, 5, 18)\"], [0.09090909090909091, \"rgb(25, 25, 51)\"], [0.18181818181818182, \"rgb(44, 42, 87)\"], [0.2727272727272727, \"rgb(58, 60, 125)\"], [0.36363636363636365, \"rgb(62, 83, 160)\"], [0.45454545454545453, \"rgb(62, 109, 178)\"], [0.5454545454545454, \"rgb(72, 134, 187)\"], [0.6363636363636364, \"rgb(89, 159, 196)\"], [0.7272727272727273, \"rgb(114, 184, 205)\"], [0.8181818181818182, \"rgb(149, 207, 216)\"], [0.9090909090909091, \"rgb(192, 229, 232)\"], [1.0, \"rgb(234, 252, 253)\"]]}, \"legend\": {\"tracegroupgap\": 0}, \"margin\": {\"t\": 60}, \"template\": {\"data\": {\"bar\": [{\"error_x\": {\"color\": \"#2a3f5f\"}, \"error_y\": {\"color\": \"#2a3f5f\"}, \"marker\": {\"line\": {\"color\": \"#E5ECF6\", \"width\": 0.5}}, \"type\": \"bar\"}], \"barpolar\": [{\"marker\": {\"line\": {\"color\": \"#E5ECF6\", \"width\": 0.5}}, \"type\": \"barpolar\"}], \"carpet\": [{\"aaxis\": {\"endlinecolor\": \"#2a3f5f\", \"gridcolor\": \"white\", \"linecolor\": \"white\", \"minorgridcolor\": \"white\", \"startlinecolor\": \"#2a3f5f\"}, \"baxis\": {\"endlinecolor\": \"#2a3f5f\", \"gridcolor\": \"white\", \"linecolor\": \"white\", \"minorgridcolor\": \"white\", \"startlinecolor\": \"#2a3f5f\"}, \"type\": \"carpet\"}], \"choropleth\": [{\"colorbar\": {\"outlinewidth\": 0, \"ticks\": \"\"}, \"type\": \"choropleth\"}], \"contour\": [{\"colorbar\": {\"outlinewidth\": 0, \"ticks\": \"\"}, \"colorscale\": [[0.0, \"#0d0887\"], [0.1111111111111111, \"#46039f\"], [0.2222222222222222, \"#7201a8\"], [0.3333333333333333, \"#9c179e\"], [0.4444444444444444, \"#bd3786\"], [0.5555555555555556, \"#d8576b\"], [0.6666666666666666, \"#ed7953\"], [0.7777777777777778, \"#fb9f3a\"], [0.8888888888888888, \"#fdca26\"], [1.0, \"#f0f921\"]], \"type\": \"contour\"}], \"contourcarpet\": [{\"colorbar\": {\"outlinewidth\": 0, \"ticks\": \"\"}, \"type\": \"contourcarpet\"}], \"heatmap\": [{\"colorbar\": {\"outlinewidth\": 0, \"ticks\": \"\"}, \"colorscale\": [[0.0, \"#0d0887\"], [0.1111111111111111, \"#46039f\"], [0.2222222222222222, \"#7201a8\"], [0.3333333333333333, \"#9c179e\"], [0.4444444444444444, \"#bd3786\"], [0.5555555555555556, \"#d8576b\"], [0.6666666666666666, \"#ed7953\"], [0.7777777777777778, \"#fb9f3a\"], [0.8888888888888888, \"#fdca26\"], [1.0, \"#f0f921\"]], \"type\": \"heatmap\"}], \"heatmapgl\": [{\"colorbar\": {\"outlinewidth\": 0, \"ticks\": \"\"}, \"colorscale\": [[0.0, \"#0d0887\"], [0.1111111111111111, \"#46039f\"], [0.2222222222222222, \"#7201a8\"], [0.3333333333333333, \"#9c179e\"], [0.4444444444444444, \"#bd3786\"], [0.5555555555555556, \"#d8576b\"], [0.6666666666666666, \"#ed7953\"], [0.7777777777777778, \"#fb9f3a\"], [0.8888888888888888, \"#fdca26\"], [1.0, \"#f0f921\"]], \"type\": \"heatmapgl\"}], \"histogram\": [{\"marker\": {\"colorbar\": {\"outlinewidth\": 0, \"ticks\": \"\"}}, \"type\": \"histogram\"}], \"histogram2d\": [{\"colorbar\": {\"outlinewidth\": 0, \"ticks\": \"\"}, \"colorscale\": [[0.0, \"#0d0887\"], [0.1111111111111111, \"#46039f\"], [0.2222222222222222, \"#7201a8\"], [0.3333333333333333, \"#9c179e\"], [0.4444444444444444, \"#bd3786\"], [0.5555555555555556, \"#d8576b\"], [0.6666666666666666, \"#ed7953\"], [0.7777777777777778, \"#fb9f3a\"], [0.8888888888888888, \"#fdca26\"], [1.0, \"#f0f921\"]], \"type\": \"histogram2d\"}], \"histogram2dcontour\": [{\"colorbar\": {\"outlinewidth\": 0, \"ticks\": \"\"}, \"colorscale\": [[0.0, \"#0d0887\"], [0.1111111111111111, \"#46039f\"], [0.2222222222222222, \"#7201a8\"], [0.3333333333333333, \"#9c179e\"], [0.4444444444444444, \"#bd3786\"], [0.5555555555555556, \"#d8576b\"], [0.6666666666666666, \"#ed7953\"], [0.7777777777777778, \"#fb9f3a\"], [0.8888888888888888, \"#fdca26\"], [1.0, \"#f0f921\"]], \"type\": \"histogram2dcontour\"}], \"mesh3d\": [{\"colorbar\": {\"outlinewidth\": 0, \"ticks\": \"\"}, \"type\": \"mesh3d\"}], \"parcoords\": [{\"line\": {\"colorbar\": {\"outlinewidth\": 0, \"ticks\": \"\"}}, \"type\": \"parcoords\"}], \"pie\": [{\"automargin\": true, \"type\": \"pie\"}], \"scatter\": [{\"marker\": {\"colorbar\": {\"outlinewidth\": 0, \"ticks\": \"\"}}, \"type\": \"scatter\"}], \"scatter3d\": [{\"line\": {\"colorbar\": {\"outlinewidth\": 0, \"ticks\": \"\"}}, \"marker\": {\"colorbar\": {\"outlinewidth\": 0, \"ticks\": \"\"}}, \"type\": \"scatter3d\"}], \"scattercarpet\": [{\"marker\": {\"colorbar\": {\"outlinewidth\": 0, \"ticks\": \"\"}}, \"type\": \"scattercarpet\"}], \"scattergeo\": [{\"marker\": {\"colorbar\": {\"outlinewidth\": 0, \"ticks\": \"\"}}, \"type\": \"scattergeo\"}], \"scattergl\": [{\"marker\": {\"colorbar\": {\"outlinewidth\": 0, \"ticks\": \"\"}}, \"type\": \"scattergl\"}], \"scattermapbox\": [{\"marker\": {\"colorbar\": {\"outlinewidth\": 0, \"ticks\": \"\"}}, \"type\": \"scattermapbox\"}], \"scatterpolar\": [{\"marker\": {\"colorbar\": {\"outlinewidth\": 0, \"ticks\": \"\"}}, \"type\": \"scatterpolar\"}], \"scatterpolargl\": [{\"marker\": {\"colorbar\": {\"outlinewidth\": 0, \"ticks\": \"\"}}, \"type\": \"scatterpolargl\"}], \"scatterternary\": [{\"marker\": {\"colorbar\": {\"outlinewidth\": 0, \"ticks\": \"\"}}, \"type\": \"scatterternary\"}], \"surface\": [{\"colorbar\": {\"outlinewidth\": 0, \"ticks\": \"\"}, \"colorscale\": [[0.0, \"#0d0887\"], [0.1111111111111111, \"#46039f\"], [0.2222222222222222, \"#7201a8\"], [0.3333333333333333, \"#9c179e\"], [0.4444444444444444, \"#bd3786\"], [0.5555555555555556, \"#d8576b\"], [0.6666666666666666, \"#ed7953\"], [0.7777777777777778, \"#fb9f3a\"], [0.8888888888888888, \"#fdca26\"], [1.0, \"#f0f921\"]], \"type\": \"surface\"}], \"table\": [{\"cells\": {\"fill\": {\"color\": \"#EBF0F8\"}, \"line\": {\"color\": \"white\"}}, \"header\": {\"fill\": {\"color\": \"#C8D4E3\"}, \"line\": {\"color\": \"white\"}}, \"type\": \"table\"}]}, \"layout\": {\"annotationdefaults\": {\"arrowcolor\": \"#2a3f5f\", \"arrowhead\": 0, \"arrowwidth\": 1}, \"coloraxis\": {\"colorbar\": {\"outlinewidth\": 0, \"ticks\": \"\"}}, \"colorscale\": {\"diverging\": [[0, \"#8e0152\"], [0.1, \"#c51b7d\"], [0.2, \"#de77ae\"], [0.3, \"#f1b6da\"], [0.4, \"#fde0ef\"], [0.5, \"#f7f7f7\"], [0.6, \"#e6f5d0\"], [0.7, \"#b8e186\"], [0.8, \"#7fbc41\"], [0.9, \"#4d9221\"], [1, \"#276419\"]], \"sequential\": [[0.0, \"#0d0887\"], [0.1111111111111111, \"#46039f\"], [0.2222222222222222, \"#7201a8\"], [0.3333333333333333, \"#9c179e\"], [0.4444444444444444, \"#bd3786\"], [0.5555555555555556, \"#d8576b\"], [0.6666666666666666, \"#ed7953\"], [0.7777777777777778, \"#fb9f3a\"], [0.8888888888888888, \"#fdca26\"], [1.0, \"#f0f921\"]], \"sequentialminus\": [[0.0, \"#0d0887\"], [0.1111111111111111, \"#46039f\"], [0.2222222222222222, \"#7201a8\"], [0.3333333333333333, \"#9c179e\"], [0.4444444444444444, \"#bd3786\"], [0.5555555555555556, \"#d8576b\"], [0.6666666666666666, \"#ed7953\"], [0.7777777777777778, \"#fb9f3a\"], [0.8888888888888888, \"#fdca26\"], [1.0, \"#f0f921\"]]}, \"colorway\": [\"#636efa\", \"#EF553B\", \"#00cc96\", \"#ab63fa\", \"#FFA15A\", \"#19d3f3\", \"#FF6692\", \"#B6E880\", \"#FF97FF\", \"#FECB52\"], \"font\": {\"color\": \"#2a3f5f\"}, \"geo\": {\"bgcolor\": \"white\", \"lakecolor\": \"white\", \"landcolor\": \"#E5ECF6\", \"showlakes\": true, \"showland\": true, \"subunitcolor\": \"white\"}, \"hoverlabel\": {\"align\": \"left\"}, \"hovermode\": \"closest\", \"mapbox\": {\"style\": \"light\"}, \"paper_bgcolor\": \"white\", \"plot_bgcolor\": \"#E5ECF6\", \"polar\": {\"angularaxis\": {\"gridcolor\": \"white\", \"linecolor\": \"white\", \"ticks\": \"\"}, \"bgcolor\": \"#E5ECF6\", \"radialaxis\": {\"gridcolor\": \"white\", \"linecolor\": \"white\", \"ticks\": \"\"}}, \"scene\": {\"xaxis\": {\"backgroundcolor\": \"#E5ECF6\", \"gridcolor\": \"white\", \"gridwidth\": 2, \"linecolor\": \"white\", \"showbackground\": true, \"ticks\": \"\", \"zerolinecolor\": \"white\"}, \"yaxis\": {\"backgroundcolor\": \"#E5ECF6\", \"gridcolor\": \"white\", \"gridwidth\": 2, \"linecolor\": \"white\", \"showbackground\": true, \"ticks\": \"\", \"zerolinecolor\": \"white\"}, \"zaxis\": {\"backgroundcolor\": \"#E5ECF6\", \"gridcolor\": \"white\", \"gridwidth\": 2, \"linecolor\": \"white\", \"showbackground\": true, \"ticks\": \"\", \"zerolinecolor\": \"white\"}}, \"shapedefaults\": {\"line\": {\"color\": \"#2a3f5f\"}}, \"ternary\": {\"aaxis\": {\"gridcolor\": \"white\", \"linecolor\": \"white\", \"ticks\": \"\"}, \"baxis\": {\"gridcolor\": \"white\", \"linecolor\": \"white\", \"ticks\": \"\"}, \"bgcolor\": \"#E5ECF6\", \"caxis\": {\"gridcolor\": \"white\", \"linecolor\": \"white\", \"ticks\": \"\"}}, \"title\": {\"x\": 0.05}, \"xaxis\": {\"automargin\": true, \"gridcolor\": \"white\", \"linecolor\": \"white\", \"ticks\": \"\", \"title\": {\"standoff\": 15}, \"zerolinecolor\": \"white\", \"zerolinewidth\": 2}, \"yaxis\": {\"automargin\": true, \"gridcolor\": \"white\", \"linecolor\": \"white\", \"ticks\": \"\", \"title\": {\"standoff\": 15}, \"zerolinecolor\": \"white\", \"zerolinewidth\": 2}}}},                        {\"responsive\": true}                    ).then(function(){\n",
       "                            \n",
       "var gd = document.getElementById('80e4cf64-71a3-4782-aa30-6e33dd4bcc7e');\n",
       "var x = new MutationObserver(function (mutations, observer) {{\n",
       "        var display = window.getComputedStyle(gd).display;\n",
       "        if (!display || display === 'none') {{\n",
       "            console.log([gd, 'removed!']);\n",
       "            Plotly.purge(gd);\n",
       "            observer.disconnect();\n",
       "        }}\n",
       "}});\n",
       "\n",
       "// Listen for the removal of the full notebook cells\n",
       "var notebookContainer = gd.closest('#notebook-container');\n",
       "if (notebookContainer) {{\n",
       "    x.observe(notebookContainer, {childList: true});\n",
       "}}\n",
       "\n",
       "// Listen for the clearing of the current output cell\n",
       "var outputEl = gd.closest('.output');\n",
       "if (outputEl) {{\n",
       "    x.observe(outputEl, {childList: true});\n",
       "}}\n",
       "\n",
       "                        })                };                });            </script>        </div>"
      ]
     },
     "metadata": {},
     "output_type": "display_data"
    }
   ],
   "source": [
    "fig = px.treemap(df_calls, \n",
    "                 path=['label','year','total_calls_label', 'total_unanswered_calls'], \n",
    "                 values='total_calls',\n",
    "                 color_continuous_scale='ice',\n",
    "                 color='total_calls'#,\n",
    "                # title='Number of calls every year'\n",
    "                )\n",
    "fig.write_html(\"tc.html\")\n",
    "fig.show()\n"
   ]
  },
  {
   "cell_type": "markdown",
   "metadata": {},
   "source": [
    "Here despite of having similar number of calls in $2016$ total number of unanswered calls are around $3$ times lesser than other years."
   ]
  },
  {
   "cell_type": "markdown",
   "metadata": {},
   "source": [
    "### Total used talk time every year \n",
    "\n",
    "Here used talk time is visualized for every year. "
   ]
  },
  {
   "cell_type": "code",
   "execution_count": 219,
   "metadata": {},
   "outputs": [
    {
     "data": {
      "application/vnd.plotly.v1+json": {
       "config": {
        "plotlyServerURL": "https://plot.ly"
       },
       "data": [
        {
         "branchvalues": "total",
         "customdata": [
          [
           1180
          ],
          [
           1371
          ],
          [
           1699
          ],
          [
           2008
          ],
          [
           2146
          ],
          [
           781
          ],
          [
           2146
          ],
          [
           1699
          ],
          [
           1371
          ],
          [
           1180
          ],
          [
           2008
          ],
          [
           781
          ],
          [
           1677.2980947196515
          ]
         ],
         "domain": {
          "x": [
           0,
           1
          ],
          "y": [
           0,
           1
          ]
         },
         "hovertemplate": "labels=%{label}<br>total_talktime_sum=%{value}<br>parent=%{parent}<br>id=%{id}<br>total_talktime=%{color}<extra></extra>",
         "ids": [
          "Yearly talk time in hours/Year: 2018/Total talktime: 1180 hrs",
          "Yearly talk time in hours/Year: 2017/Total talktime: 1371 hrs",
          "Yearly talk time in hours/Year: 2016/Total talktime: 1699 hrs",
          "Yearly talk time in hours/Year: 2019/Total talktime: 2008 hrs",
          "Yearly talk time in hours/Year: 2015/Total talktime: 2146 hrs",
          "Yearly talk time in hours/Year: 2020/Total talktime: 781 hrs",
          "Yearly talk time in hours/Year: 2015",
          "Yearly talk time in hours/Year: 2016",
          "Yearly talk time in hours/Year: 2017",
          "Yearly talk time in hours/Year: 2018",
          "Yearly talk time in hours/Year: 2019",
          "Yearly talk time in hours/Year: 2020",
          "Yearly talk time in hours"
         ],
         "labels": [
          "Total talktime: 1180 hrs",
          "Total talktime: 1371 hrs",
          "Total talktime: 1699 hrs",
          "Total talktime: 2008 hrs",
          "Total talktime: 2146 hrs",
          "Total talktime: 781 hrs",
          "Year: 2015",
          "Year: 2016",
          "Year: 2017",
          "Year: 2018",
          "Year: 2019",
          "Year: 2020",
          "Yearly talk time in hours"
         ],
         "marker": {
          "coloraxis": "coloraxis",
          "colors": [
           1180,
           1371,
           1699,
           2008,
           2146,
           781,
           2146,
           1699,
           1371,
           1180,
           2008,
           781,
           1677.2980947196515
          ]
         },
         "name": "",
         "parents": [
          "Yearly talk time in hours/Year: 2018",
          "Yearly talk time in hours/Year: 2017",
          "Yearly talk time in hours/Year: 2016",
          "Yearly talk time in hours/Year: 2019",
          "Yearly talk time in hours/Year: 2015",
          "Yearly talk time in hours/Year: 2020",
          "Yearly talk time in hours",
          "Yearly talk time in hours",
          "Yearly talk time in hours",
          "Yearly talk time in hours",
          "Yearly talk time in hours",
          "Yearly talk time in hours",
          ""
         ],
         "type": "treemap",
         "values": [
          1180,
          1371,
          1699,
          2008,
          2146,
          781,
          2146,
          1699,
          1371,
          1180,
          2008,
          781,
          9185
         ]
        }
       ],
       "layout": {
        "coloraxis": {
         "colorbar": {
          "title": {
           "text": "total_talktime"
          }
         },
         "colorscale": [
          [
           0,
           "rgb(0, 147, 146)"
          ],
          [
           0.16666666666666666,
           "rgb(114, 170, 161)"
          ],
          [
           0.3333333333333333,
           "rgb(177, 199, 179)"
          ],
          [
           0.5,
           "rgb(241, 234, 200)"
          ],
          [
           0.6666666666666666,
           "rgb(229, 185, 173)"
          ],
          [
           0.8333333333333334,
           "rgb(217, 137, 148)"
          ],
          [
           1,
           "rgb(208, 88, 126)"
          ]
         ]
        },
        "legend": {
         "tracegroupgap": 0
        },
        "margin": {
         "t": 60
        },
        "template": {
         "data": {
          "bar": [
           {
            "error_x": {
             "color": "#2a3f5f"
            },
            "error_y": {
             "color": "#2a3f5f"
            },
            "marker": {
             "line": {
              "color": "#E5ECF6",
              "width": 0.5
             }
            },
            "type": "bar"
           }
          ],
          "barpolar": [
           {
            "marker": {
             "line": {
              "color": "#E5ECF6",
              "width": 0.5
             }
            },
            "type": "barpolar"
           }
          ],
          "carpet": [
           {
            "aaxis": {
             "endlinecolor": "#2a3f5f",
             "gridcolor": "white",
             "linecolor": "white",
             "minorgridcolor": "white",
             "startlinecolor": "#2a3f5f"
            },
            "baxis": {
             "endlinecolor": "#2a3f5f",
             "gridcolor": "white",
             "linecolor": "white",
             "minorgridcolor": "white",
             "startlinecolor": "#2a3f5f"
            },
            "type": "carpet"
           }
          ],
          "choropleth": [
           {
            "colorbar": {
             "outlinewidth": 0,
             "ticks": ""
            },
            "type": "choropleth"
           }
          ],
          "contour": [
           {
            "colorbar": {
             "outlinewidth": 0,
             "ticks": ""
            },
            "colorscale": [
             [
              0,
              "#0d0887"
             ],
             [
              0.1111111111111111,
              "#46039f"
             ],
             [
              0.2222222222222222,
              "#7201a8"
             ],
             [
              0.3333333333333333,
              "#9c179e"
             ],
             [
              0.4444444444444444,
              "#bd3786"
             ],
             [
              0.5555555555555556,
              "#d8576b"
             ],
             [
              0.6666666666666666,
              "#ed7953"
             ],
             [
              0.7777777777777778,
              "#fb9f3a"
             ],
             [
              0.8888888888888888,
              "#fdca26"
             ],
             [
              1,
              "#f0f921"
             ]
            ],
            "type": "contour"
           }
          ],
          "contourcarpet": [
           {
            "colorbar": {
             "outlinewidth": 0,
             "ticks": ""
            },
            "type": "contourcarpet"
           }
          ],
          "heatmap": [
           {
            "colorbar": {
             "outlinewidth": 0,
             "ticks": ""
            },
            "colorscale": [
             [
              0,
              "#0d0887"
             ],
             [
              0.1111111111111111,
              "#46039f"
             ],
             [
              0.2222222222222222,
              "#7201a8"
             ],
             [
              0.3333333333333333,
              "#9c179e"
             ],
             [
              0.4444444444444444,
              "#bd3786"
             ],
             [
              0.5555555555555556,
              "#d8576b"
             ],
             [
              0.6666666666666666,
              "#ed7953"
             ],
             [
              0.7777777777777778,
              "#fb9f3a"
             ],
             [
              0.8888888888888888,
              "#fdca26"
             ],
             [
              1,
              "#f0f921"
             ]
            ],
            "type": "heatmap"
           }
          ],
          "heatmapgl": [
           {
            "colorbar": {
             "outlinewidth": 0,
             "ticks": ""
            },
            "colorscale": [
             [
              0,
              "#0d0887"
             ],
             [
              0.1111111111111111,
              "#46039f"
             ],
             [
              0.2222222222222222,
              "#7201a8"
             ],
             [
              0.3333333333333333,
              "#9c179e"
             ],
             [
              0.4444444444444444,
              "#bd3786"
             ],
             [
              0.5555555555555556,
              "#d8576b"
             ],
             [
              0.6666666666666666,
              "#ed7953"
             ],
             [
              0.7777777777777778,
              "#fb9f3a"
             ],
             [
              0.8888888888888888,
              "#fdca26"
             ],
             [
              1,
              "#f0f921"
             ]
            ],
            "type": "heatmapgl"
           }
          ],
          "histogram": [
           {
            "marker": {
             "colorbar": {
              "outlinewidth": 0,
              "ticks": ""
             }
            },
            "type": "histogram"
           }
          ],
          "histogram2d": [
           {
            "colorbar": {
             "outlinewidth": 0,
             "ticks": ""
            },
            "colorscale": [
             [
              0,
              "#0d0887"
             ],
             [
              0.1111111111111111,
              "#46039f"
             ],
             [
              0.2222222222222222,
              "#7201a8"
             ],
             [
              0.3333333333333333,
              "#9c179e"
             ],
             [
              0.4444444444444444,
              "#bd3786"
             ],
             [
              0.5555555555555556,
              "#d8576b"
             ],
             [
              0.6666666666666666,
              "#ed7953"
             ],
             [
              0.7777777777777778,
              "#fb9f3a"
             ],
             [
              0.8888888888888888,
              "#fdca26"
             ],
             [
              1,
              "#f0f921"
             ]
            ],
            "type": "histogram2d"
           }
          ],
          "histogram2dcontour": [
           {
            "colorbar": {
             "outlinewidth": 0,
             "ticks": ""
            },
            "colorscale": [
             [
              0,
              "#0d0887"
             ],
             [
              0.1111111111111111,
              "#46039f"
             ],
             [
              0.2222222222222222,
              "#7201a8"
             ],
             [
              0.3333333333333333,
              "#9c179e"
             ],
             [
              0.4444444444444444,
              "#bd3786"
             ],
             [
              0.5555555555555556,
              "#d8576b"
             ],
             [
              0.6666666666666666,
              "#ed7953"
             ],
             [
              0.7777777777777778,
              "#fb9f3a"
             ],
             [
              0.8888888888888888,
              "#fdca26"
             ],
             [
              1,
              "#f0f921"
             ]
            ],
            "type": "histogram2dcontour"
           }
          ],
          "mesh3d": [
           {
            "colorbar": {
             "outlinewidth": 0,
             "ticks": ""
            },
            "type": "mesh3d"
           }
          ],
          "parcoords": [
           {
            "line": {
             "colorbar": {
              "outlinewidth": 0,
              "ticks": ""
             }
            },
            "type": "parcoords"
           }
          ],
          "pie": [
           {
            "automargin": true,
            "type": "pie"
           }
          ],
          "scatter": [
           {
            "marker": {
             "colorbar": {
              "outlinewidth": 0,
              "ticks": ""
             }
            },
            "type": "scatter"
           }
          ],
          "scatter3d": [
           {
            "line": {
             "colorbar": {
              "outlinewidth": 0,
              "ticks": ""
             }
            },
            "marker": {
             "colorbar": {
              "outlinewidth": 0,
              "ticks": ""
             }
            },
            "type": "scatter3d"
           }
          ],
          "scattercarpet": [
           {
            "marker": {
             "colorbar": {
              "outlinewidth": 0,
              "ticks": ""
             }
            },
            "type": "scattercarpet"
           }
          ],
          "scattergeo": [
           {
            "marker": {
             "colorbar": {
              "outlinewidth": 0,
              "ticks": ""
             }
            },
            "type": "scattergeo"
           }
          ],
          "scattergl": [
           {
            "marker": {
             "colorbar": {
              "outlinewidth": 0,
              "ticks": ""
             }
            },
            "type": "scattergl"
           }
          ],
          "scattermapbox": [
           {
            "marker": {
             "colorbar": {
              "outlinewidth": 0,
              "ticks": ""
             }
            },
            "type": "scattermapbox"
           }
          ],
          "scatterpolar": [
           {
            "marker": {
             "colorbar": {
              "outlinewidth": 0,
              "ticks": ""
             }
            },
            "type": "scatterpolar"
           }
          ],
          "scatterpolargl": [
           {
            "marker": {
             "colorbar": {
              "outlinewidth": 0,
              "ticks": ""
             }
            },
            "type": "scatterpolargl"
           }
          ],
          "scatterternary": [
           {
            "marker": {
             "colorbar": {
              "outlinewidth": 0,
              "ticks": ""
             }
            },
            "type": "scatterternary"
           }
          ],
          "surface": [
           {
            "colorbar": {
             "outlinewidth": 0,
             "ticks": ""
            },
            "colorscale": [
             [
              0,
              "#0d0887"
             ],
             [
              0.1111111111111111,
              "#46039f"
             ],
             [
              0.2222222222222222,
              "#7201a8"
             ],
             [
              0.3333333333333333,
              "#9c179e"
             ],
             [
              0.4444444444444444,
              "#bd3786"
             ],
             [
              0.5555555555555556,
              "#d8576b"
             ],
             [
              0.6666666666666666,
              "#ed7953"
             ],
             [
              0.7777777777777778,
              "#fb9f3a"
             ],
             [
              0.8888888888888888,
              "#fdca26"
             ],
             [
              1,
              "#f0f921"
             ]
            ],
            "type": "surface"
           }
          ],
          "table": [
           {
            "cells": {
             "fill": {
              "color": "#EBF0F8"
             },
             "line": {
              "color": "white"
             }
            },
            "header": {
             "fill": {
              "color": "#C8D4E3"
             },
             "line": {
              "color": "white"
             }
            },
            "type": "table"
           }
          ]
         },
         "layout": {
          "annotationdefaults": {
           "arrowcolor": "#2a3f5f",
           "arrowhead": 0,
           "arrowwidth": 1
          },
          "coloraxis": {
           "colorbar": {
            "outlinewidth": 0,
            "ticks": ""
           }
          },
          "colorscale": {
           "diverging": [
            [
             0,
             "#8e0152"
            ],
            [
             0.1,
             "#c51b7d"
            ],
            [
             0.2,
             "#de77ae"
            ],
            [
             0.3,
             "#f1b6da"
            ],
            [
             0.4,
             "#fde0ef"
            ],
            [
             0.5,
             "#f7f7f7"
            ],
            [
             0.6,
             "#e6f5d0"
            ],
            [
             0.7,
             "#b8e186"
            ],
            [
             0.8,
             "#7fbc41"
            ],
            [
             0.9,
             "#4d9221"
            ],
            [
             1,
             "#276419"
            ]
           ],
           "sequential": [
            [
             0,
             "#0d0887"
            ],
            [
             0.1111111111111111,
             "#46039f"
            ],
            [
             0.2222222222222222,
             "#7201a8"
            ],
            [
             0.3333333333333333,
             "#9c179e"
            ],
            [
             0.4444444444444444,
             "#bd3786"
            ],
            [
             0.5555555555555556,
             "#d8576b"
            ],
            [
             0.6666666666666666,
             "#ed7953"
            ],
            [
             0.7777777777777778,
             "#fb9f3a"
            ],
            [
             0.8888888888888888,
             "#fdca26"
            ],
            [
             1,
             "#f0f921"
            ]
           ],
           "sequentialminus": [
            [
             0,
             "#0d0887"
            ],
            [
             0.1111111111111111,
             "#46039f"
            ],
            [
             0.2222222222222222,
             "#7201a8"
            ],
            [
             0.3333333333333333,
             "#9c179e"
            ],
            [
             0.4444444444444444,
             "#bd3786"
            ],
            [
             0.5555555555555556,
             "#d8576b"
            ],
            [
             0.6666666666666666,
             "#ed7953"
            ],
            [
             0.7777777777777778,
             "#fb9f3a"
            ],
            [
             0.8888888888888888,
             "#fdca26"
            ],
            [
             1,
             "#f0f921"
            ]
           ]
          },
          "colorway": [
           "#636efa",
           "#EF553B",
           "#00cc96",
           "#ab63fa",
           "#FFA15A",
           "#19d3f3",
           "#FF6692",
           "#B6E880",
           "#FF97FF",
           "#FECB52"
          ],
          "font": {
           "color": "#2a3f5f"
          },
          "geo": {
           "bgcolor": "white",
           "lakecolor": "white",
           "landcolor": "#E5ECF6",
           "showlakes": true,
           "showland": true,
           "subunitcolor": "white"
          },
          "hoverlabel": {
           "align": "left"
          },
          "hovermode": "closest",
          "mapbox": {
           "style": "light"
          },
          "paper_bgcolor": "white",
          "plot_bgcolor": "#E5ECF6",
          "polar": {
           "angularaxis": {
            "gridcolor": "white",
            "linecolor": "white",
            "ticks": ""
           },
           "bgcolor": "#E5ECF6",
           "radialaxis": {
            "gridcolor": "white",
            "linecolor": "white",
            "ticks": ""
           }
          },
          "scene": {
           "xaxis": {
            "backgroundcolor": "#E5ECF6",
            "gridcolor": "white",
            "gridwidth": 2,
            "linecolor": "white",
            "showbackground": true,
            "ticks": "",
            "zerolinecolor": "white"
           },
           "yaxis": {
            "backgroundcolor": "#E5ECF6",
            "gridcolor": "white",
            "gridwidth": 2,
            "linecolor": "white",
            "showbackground": true,
            "ticks": "",
            "zerolinecolor": "white"
           },
           "zaxis": {
            "backgroundcolor": "#E5ECF6",
            "gridcolor": "white",
            "gridwidth": 2,
            "linecolor": "white",
            "showbackground": true,
            "ticks": "",
            "zerolinecolor": "white"
           }
          },
          "shapedefaults": {
           "line": {
            "color": "#2a3f5f"
           }
          },
          "ternary": {
           "aaxis": {
            "gridcolor": "white",
            "linecolor": "white",
            "ticks": ""
           },
           "baxis": {
            "gridcolor": "white",
            "linecolor": "white",
            "ticks": ""
           },
           "bgcolor": "#E5ECF6",
           "caxis": {
            "gridcolor": "white",
            "linecolor": "white",
            "ticks": ""
           }
          },
          "title": {
           "x": 0.05
          },
          "xaxis": {
           "automargin": true,
           "gridcolor": "white",
           "linecolor": "white",
           "ticks": "",
           "title": {
            "standoff": 15
           },
           "zerolinecolor": "white",
           "zerolinewidth": 2
          },
          "yaxis": {
           "automargin": true,
           "gridcolor": "white",
           "linecolor": "white",
           "ticks": "",
           "title": {
            "standoff": 15
           },
           "zerolinecolor": "white",
           "zerolinewidth": 2
          }
         }
        }
       }
      },
      "text/html": [
       "<div>                            <div id=\"728a1791-c0de-4f16-b648-ca5d23ccb31d\" class=\"plotly-graph-div\" style=\"height:525px; width:100%;\"></div>            <script type=\"text/javascript\">                require([\"plotly\"], function(Plotly) {                    window.PLOTLYENV=window.PLOTLYENV || {};                                    if (document.getElementById(\"728a1791-c0de-4f16-b648-ca5d23ccb31d\")) {                    Plotly.newPlot(                        \"728a1791-c0de-4f16-b648-ca5d23ccb31d\",                        [{\"branchvalues\": \"total\", \"customdata\": [[1180.0], [1371.0], [1699.0], [2008.0], [2146.0], [781.0], [2146.0], [1699.0], [1371.0], [1180.0], [2008.0], [781.0], [1677.2980947196515]], \"domain\": {\"x\": [0.0, 1.0], \"y\": [0.0, 1.0]}, \"hovertemplate\": \"labels=%{label}<br>total_talktime_sum=%{value}<br>parent=%{parent}<br>id=%{id}<br>total_talktime=%{color}<extra></extra>\", \"ids\": [\"Yearly talk time in hours/Year: 2018/Total talktime: 1180 hrs\", \"Yearly talk time in hours/Year: 2017/Total talktime: 1371 hrs\", \"Yearly talk time in hours/Year: 2016/Total talktime: 1699 hrs\", \"Yearly talk time in hours/Year: 2019/Total talktime: 2008 hrs\", \"Yearly talk time in hours/Year: 2015/Total talktime: 2146 hrs\", \"Yearly talk time in hours/Year: 2020/Total talktime: 781 hrs\", \"Yearly talk time in hours/Year: 2015\", \"Yearly talk time in hours/Year: 2016\", \"Yearly talk time in hours/Year: 2017\", \"Yearly talk time in hours/Year: 2018\", \"Yearly talk time in hours/Year: 2019\", \"Yearly talk time in hours/Year: 2020\", \"Yearly talk time in hours\"], \"labels\": [\"Total talktime: 1180 hrs\", \"Total talktime: 1371 hrs\", \"Total talktime: 1699 hrs\", \"Total talktime: 2008 hrs\", \"Total talktime: 2146 hrs\", \"Total talktime: 781 hrs\", \"Year: 2015\", \"Year: 2016\", \"Year: 2017\", \"Year: 2018\", \"Year: 2019\", \"Year: 2020\", \"Yearly talk time in hours\"], \"marker\": {\"coloraxis\": \"coloraxis\", \"colors\": [1180.0, 1371.0, 1699.0, 2008.0, 2146.0, 781.0, 2146.0, 1699.0, 1371.0, 1180.0, 2008.0, 781.0, 1677.2980947196515]}, \"name\": \"\", \"parents\": [\"Yearly talk time in hours/Year: 2018\", \"Yearly talk time in hours/Year: 2017\", \"Yearly talk time in hours/Year: 2016\", \"Yearly talk time in hours/Year: 2019\", \"Yearly talk time in hours/Year: 2015\", \"Yearly talk time in hours/Year: 2020\", \"Yearly talk time in hours\", \"Yearly talk time in hours\", \"Yearly talk time in hours\", \"Yearly talk time in hours\", \"Yearly talk time in hours\", \"Yearly talk time in hours\", \"\"], \"type\": \"treemap\", \"values\": [1180, 1371, 1699, 2008, 2146, 781, 2146, 1699, 1371, 1180, 2008, 781, 9185]}],                        {\"coloraxis\": {\"colorbar\": {\"title\": {\"text\": \"total_talktime\"}}, \"colorscale\": [[0.0, \"rgb(0, 147, 146)\"], [0.16666666666666666, \"rgb(114, 170, 161)\"], [0.3333333333333333, \"rgb(177, 199, 179)\"], [0.5, \"rgb(241, 234, 200)\"], [0.6666666666666666, \"rgb(229, 185, 173)\"], [0.8333333333333334, \"rgb(217, 137, 148)\"], [1.0, \"rgb(208, 88, 126)\"]]}, \"legend\": {\"tracegroupgap\": 0}, \"margin\": {\"t\": 60}, \"template\": {\"data\": {\"bar\": [{\"error_x\": {\"color\": \"#2a3f5f\"}, \"error_y\": {\"color\": \"#2a3f5f\"}, \"marker\": {\"line\": {\"color\": \"#E5ECF6\", \"width\": 0.5}}, \"type\": \"bar\"}], \"barpolar\": [{\"marker\": {\"line\": {\"color\": \"#E5ECF6\", \"width\": 0.5}}, \"type\": \"barpolar\"}], \"carpet\": [{\"aaxis\": {\"endlinecolor\": \"#2a3f5f\", \"gridcolor\": \"white\", \"linecolor\": \"white\", \"minorgridcolor\": \"white\", \"startlinecolor\": \"#2a3f5f\"}, \"baxis\": {\"endlinecolor\": \"#2a3f5f\", \"gridcolor\": \"white\", \"linecolor\": \"white\", \"minorgridcolor\": \"white\", \"startlinecolor\": \"#2a3f5f\"}, \"type\": \"carpet\"}], \"choropleth\": [{\"colorbar\": {\"outlinewidth\": 0, \"ticks\": \"\"}, \"type\": \"choropleth\"}], \"contour\": [{\"colorbar\": {\"outlinewidth\": 0, \"ticks\": \"\"}, \"colorscale\": [[0.0, \"#0d0887\"], [0.1111111111111111, \"#46039f\"], [0.2222222222222222, \"#7201a8\"], [0.3333333333333333, \"#9c179e\"], [0.4444444444444444, \"#bd3786\"], [0.5555555555555556, \"#d8576b\"], [0.6666666666666666, \"#ed7953\"], [0.7777777777777778, \"#fb9f3a\"], [0.8888888888888888, \"#fdca26\"], [1.0, \"#f0f921\"]], \"type\": \"contour\"}], \"contourcarpet\": [{\"colorbar\": {\"outlinewidth\": 0, \"ticks\": \"\"}, \"type\": \"contourcarpet\"}], \"heatmap\": [{\"colorbar\": {\"outlinewidth\": 0, \"ticks\": \"\"}, \"colorscale\": [[0.0, \"#0d0887\"], [0.1111111111111111, \"#46039f\"], [0.2222222222222222, \"#7201a8\"], [0.3333333333333333, \"#9c179e\"], [0.4444444444444444, \"#bd3786\"], [0.5555555555555556, \"#d8576b\"], [0.6666666666666666, \"#ed7953\"], [0.7777777777777778, \"#fb9f3a\"], [0.8888888888888888, \"#fdca26\"], [1.0, \"#f0f921\"]], \"type\": \"heatmap\"}], \"heatmapgl\": [{\"colorbar\": {\"outlinewidth\": 0, \"ticks\": \"\"}, \"colorscale\": [[0.0, \"#0d0887\"], [0.1111111111111111, \"#46039f\"], [0.2222222222222222, \"#7201a8\"], [0.3333333333333333, \"#9c179e\"], [0.4444444444444444, \"#bd3786\"], [0.5555555555555556, \"#d8576b\"], [0.6666666666666666, \"#ed7953\"], [0.7777777777777778, \"#fb9f3a\"], [0.8888888888888888, \"#fdca26\"], [1.0, \"#f0f921\"]], \"type\": \"heatmapgl\"}], \"histogram\": [{\"marker\": {\"colorbar\": {\"outlinewidth\": 0, \"ticks\": \"\"}}, \"type\": \"histogram\"}], \"histogram2d\": [{\"colorbar\": {\"outlinewidth\": 0, \"ticks\": \"\"}, \"colorscale\": [[0.0, \"#0d0887\"], [0.1111111111111111, \"#46039f\"], [0.2222222222222222, \"#7201a8\"], [0.3333333333333333, \"#9c179e\"], [0.4444444444444444, \"#bd3786\"], [0.5555555555555556, \"#d8576b\"], [0.6666666666666666, \"#ed7953\"], [0.7777777777777778, \"#fb9f3a\"], [0.8888888888888888, \"#fdca26\"], [1.0, \"#f0f921\"]], \"type\": \"histogram2d\"}], \"histogram2dcontour\": [{\"colorbar\": {\"outlinewidth\": 0, \"ticks\": \"\"}, \"colorscale\": [[0.0, \"#0d0887\"], [0.1111111111111111, \"#46039f\"], [0.2222222222222222, \"#7201a8\"], [0.3333333333333333, \"#9c179e\"], [0.4444444444444444, \"#bd3786\"], [0.5555555555555556, \"#d8576b\"], [0.6666666666666666, \"#ed7953\"], [0.7777777777777778, \"#fb9f3a\"], [0.8888888888888888, \"#fdca26\"], [1.0, \"#f0f921\"]], \"type\": \"histogram2dcontour\"}], \"mesh3d\": [{\"colorbar\": {\"outlinewidth\": 0, \"ticks\": \"\"}, \"type\": \"mesh3d\"}], \"parcoords\": [{\"line\": {\"colorbar\": {\"outlinewidth\": 0, \"ticks\": \"\"}}, \"type\": \"parcoords\"}], \"pie\": [{\"automargin\": true, \"type\": \"pie\"}], \"scatter\": [{\"marker\": {\"colorbar\": {\"outlinewidth\": 0, \"ticks\": \"\"}}, \"type\": \"scatter\"}], \"scatter3d\": [{\"line\": {\"colorbar\": {\"outlinewidth\": 0, \"ticks\": \"\"}}, \"marker\": {\"colorbar\": {\"outlinewidth\": 0, \"ticks\": \"\"}}, \"type\": \"scatter3d\"}], \"scattercarpet\": [{\"marker\": {\"colorbar\": {\"outlinewidth\": 0, \"ticks\": \"\"}}, \"type\": \"scattercarpet\"}], \"scattergeo\": [{\"marker\": {\"colorbar\": {\"outlinewidth\": 0, \"ticks\": \"\"}}, \"type\": \"scattergeo\"}], \"scattergl\": [{\"marker\": {\"colorbar\": {\"outlinewidth\": 0, \"ticks\": \"\"}}, \"type\": \"scattergl\"}], \"scattermapbox\": [{\"marker\": {\"colorbar\": {\"outlinewidth\": 0, \"ticks\": \"\"}}, \"type\": \"scattermapbox\"}], \"scatterpolar\": [{\"marker\": {\"colorbar\": {\"outlinewidth\": 0, \"ticks\": \"\"}}, \"type\": \"scatterpolar\"}], \"scatterpolargl\": [{\"marker\": {\"colorbar\": {\"outlinewidth\": 0, \"ticks\": \"\"}}, \"type\": \"scatterpolargl\"}], \"scatterternary\": [{\"marker\": {\"colorbar\": {\"outlinewidth\": 0, \"ticks\": \"\"}}, \"type\": \"scatterternary\"}], \"surface\": [{\"colorbar\": {\"outlinewidth\": 0, \"ticks\": \"\"}, \"colorscale\": [[0.0, \"#0d0887\"], [0.1111111111111111, \"#46039f\"], [0.2222222222222222, \"#7201a8\"], [0.3333333333333333, \"#9c179e\"], [0.4444444444444444, \"#bd3786\"], [0.5555555555555556, \"#d8576b\"], [0.6666666666666666, \"#ed7953\"], [0.7777777777777778, \"#fb9f3a\"], [0.8888888888888888, \"#fdca26\"], [1.0, \"#f0f921\"]], \"type\": \"surface\"}], \"table\": [{\"cells\": {\"fill\": {\"color\": \"#EBF0F8\"}, \"line\": {\"color\": \"white\"}}, \"header\": {\"fill\": {\"color\": \"#C8D4E3\"}, \"line\": {\"color\": \"white\"}}, \"type\": \"table\"}]}, \"layout\": {\"annotationdefaults\": {\"arrowcolor\": \"#2a3f5f\", \"arrowhead\": 0, \"arrowwidth\": 1}, \"coloraxis\": {\"colorbar\": {\"outlinewidth\": 0, \"ticks\": \"\"}}, \"colorscale\": {\"diverging\": [[0, \"#8e0152\"], [0.1, \"#c51b7d\"], [0.2, \"#de77ae\"], [0.3, \"#f1b6da\"], [0.4, \"#fde0ef\"], [0.5, \"#f7f7f7\"], [0.6, \"#e6f5d0\"], [0.7, \"#b8e186\"], [0.8, \"#7fbc41\"], [0.9, \"#4d9221\"], [1, \"#276419\"]], \"sequential\": [[0.0, \"#0d0887\"], [0.1111111111111111, \"#46039f\"], [0.2222222222222222, \"#7201a8\"], [0.3333333333333333, \"#9c179e\"], [0.4444444444444444, \"#bd3786\"], [0.5555555555555556, \"#d8576b\"], [0.6666666666666666, \"#ed7953\"], [0.7777777777777778, \"#fb9f3a\"], [0.8888888888888888, \"#fdca26\"], [1.0, \"#f0f921\"]], \"sequentialminus\": [[0.0, \"#0d0887\"], [0.1111111111111111, \"#46039f\"], [0.2222222222222222, \"#7201a8\"], [0.3333333333333333, \"#9c179e\"], [0.4444444444444444, \"#bd3786\"], [0.5555555555555556, \"#d8576b\"], [0.6666666666666666, \"#ed7953\"], [0.7777777777777778, \"#fb9f3a\"], [0.8888888888888888, \"#fdca26\"], [1.0, \"#f0f921\"]]}, \"colorway\": [\"#636efa\", \"#EF553B\", \"#00cc96\", \"#ab63fa\", \"#FFA15A\", \"#19d3f3\", \"#FF6692\", \"#B6E880\", \"#FF97FF\", \"#FECB52\"], \"font\": {\"color\": \"#2a3f5f\"}, \"geo\": {\"bgcolor\": \"white\", \"lakecolor\": \"white\", \"landcolor\": \"#E5ECF6\", \"showlakes\": true, \"showland\": true, \"subunitcolor\": \"white\"}, \"hoverlabel\": {\"align\": \"left\"}, \"hovermode\": \"closest\", \"mapbox\": {\"style\": \"light\"}, \"paper_bgcolor\": \"white\", \"plot_bgcolor\": \"#E5ECF6\", \"polar\": {\"angularaxis\": {\"gridcolor\": \"white\", \"linecolor\": \"white\", \"ticks\": \"\"}, \"bgcolor\": \"#E5ECF6\", \"radialaxis\": {\"gridcolor\": \"white\", \"linecolor\": \"white\", \"ticks\": \"\"}}, \"scene\": {\"xaxis\": {\"backgroundcolor\": \"#E5ECF6\", \"gridcolor\": \"white\", \"gridwidth\": 2, \"linecolor\": \"white\", \"showbackground\": true, \"ticks\": \"\", \"zerolinecolor\": \"white\"}, \"yaxis\": {\"backgroundcolor\": \"#E5ECF6\", \"gridcolor\": \"white\", \"gridwidth\": 2, \"linecolor\": \"white\", \"showbackground\": true, \"ticks\": \"\", \"zerolinecolor\": \"white\"}, \"zaxis\": {\"backgroundcolor\": \"#E5ECF6\", \"gridcolor\": \"white\", \"gridwidth\": 2, \"linecolor\": \"white\", \"showbackground\": true, \"ticks\": \"\", \"zerolinecolor\": \"white\"}}, \"shapedefaults\": {\"line\": {\"color\": \"#2a3f5f\"}}, \"ternary\": {\"aaxis\": {\"gridcolor\": \"white\", \"linecolor\": \"white\", \"ticks\": \"\"}, \"baxis\": {\"gridcolor\": \"white\", \"linecolor\": \"white\", \"ticks\": \"\"}, \"bgcolor\": \"#E5ECF6\", \"caxis\": {\"gridcolor\": \"white\", \"linecolor\": \"white\", \"ticks\": \"\"}}, \"title\": {\"x\": 0.05}, \"xaxis\": {\"automargin\": true, \"gridcolor\": \"white\", \"linecolor\": \"white\", \"ticks\": \"\", \"title\": {\"standoff\": 15}, \"zerolinecolor\": \"white\", \"zerolinewidth\": 2}, \"yaxis\": {\"automargin\": true, \"gridcolor\": \"white\", \"linecolor\": \"white\", \"ticks\": \"\", \"title\": {\"standoff\": 15}, \"zerolinecolor\": \"white\", \"zerolinewidth\": 2}}}},                        {\"responsive\": true}                    ).then(function(){\n",
       "                            \n",
       "var gd = document.getElementById('728a1791-c0de-4f16-b648-ca5d23ccb31d');\n",
       "var x = new MutationObserver(function (mutations, observer) {{\n",
       "        var display = window.getComputedStyle(gd).display;\n",
       "        if (!display || display === 'none') {{\n",
       "            console.log([gd, 'removed!']);\n",
       "            Plotly.purge(gd);\n",
       "            observer.disconnect();\n",
       "        }}\n",
       "}});\n",
       "\n",
       "// Listen for the removal of the full notebook cells\n",
       "var notebookContainer = gd.closest('#notebook-container');\n",
       "if (notebookContainer) {{\n",
       "    x.observe(notebookContainer, {childList: true});\n",
       "}}\n",
       "\n",
       "// Listen for the clearing of the current output cell\n",
       "var outputEl = gd.closest('.output');\n",
       "if (outputEl) {{\n",
       "    x.observe(outputEl, {childList: true});\n",
       "}}\n",
       "\n",
       "                        })                };                });            </script>        </div>"
      ]
     },
     "metadata": {},
     "output_type": "display_data"
    }
   ],
   "source": [
    "fig = px.treemap(df_talktime, \n",
    "                 path=['label','year','total_talktime_label'], \n",
    "                 values='total_talktime',\n",
    "                 color_continuous_scale='tealrose',\n",
    "                 color='total_talktime'#,\n",
    "                 #title='Total used talk time every year'\n",
    "                )\n",
    "fig.write_html(\"tt.html\")\n",
    "fig.show()"
   ]
  },
  {
   "cell_type": "markdown",
   "metadata": {},
   "source": [
    "### Total Queue time every year\n",
    "\n",
    "Below visualization of queue time that is how much time a person is waiting before he gets to speak with a counselor is visualized"
   ]
  },
  {
   "cell_type": "code",
   "execution_count": 220,
   "metadata": {},
   "outputs": [
    {
     "data": {
      "application/vnd.plotly.v1+json": {
       "config": {
        "plotlyServerURL": "https://plot.ly"
       },
       "data": [
        {
         "branchvalues": "total",
         "customdata": [
          [
           112
          ],
          [
           310
          ],
          [
           221
          ],
          [
           162
          ],
          [
           355
          ],
          [
           396
          ],
          [
           112
          ],
          [
           162
          ],
          [
           221
          ],
          [
           310
          ],
          [
           355
          ],
          [
           396
          ],
          [
           396
          ],
          [
           112
          ],
          [
           310
          ],
          [
           221
          ],
          [
           355
          ],
          [
           162
          ],
          [
           299.8521850899743
          ]
         ],
         "domain": {
          "x": [
           0,
           1
          ],
          "y": [
           0,
           1
          ]
         },
         "hovertemplate": "labels=%{label}<br>total_queue_time_sum=%{value}<br>parent=%{parent}<br>id=%{id}<br>total_queue_time=%{color}<extra></extra>",
         "ids": [
          "Yearly queue time in hours/Year: 2016/Total queue time: 112 hrs/Q.T. Unans calls: 5.2%",
          "Yearly queue time in hours/Year: 2017/Total queue time: 310 hrs/Q.T. Unans calls: 54.22%",
          "Yearly queue time in hours/Year: 2018/Total queue time: 221 hrs/Q.T. Unans calls: 56.05%",
          "Yearly queue time in hours/Year: 2020/Total queue time: 162 hrs/Q.T. Unans calls: 56.15%",
          "Yearly queue time in hours/Year: 2019/Total queue time: 355 hrs/Q.T. Unans calls: 56.38%",
          "Yearly queue time in hours/Year: 2015/Total queue time: 396 hrs/Q.T. Unans calls: 58.88%",
          "Yearly queue time in hours/Year: 2016/Total queue time: 112 hrs",
          "Yearly queue time in hours/Year: 2020/Total queue time: 162 hrs",
          "Yearly queue time in hours/Year: 2018/Total queue time: 221 hrs",
          "Yearly queue time in hours/Year: 2017/Total queue time: 310 hrs",
          "Yearly queue time in hours/Year: 2019/Total queue time: 355 hrs",
          "Yearly queue time in hours/Year: 2015/Total queue time: 396 hrs",
          "Yearly queue time in hours/Year: 2015",
          "Yearly queue time in hours/Year: 2016",
          "Yearly queue time in hours/Year: 2017",
          "Yearly queue time in hours/Year: 2018",
          "Yearly queue time in hours/Year: 2019",
          "Yearly queue time in hours/Year: 2020",
          "Yearly queue time in hours"
         ],
         "labels": [
          "Q.T. Unans calls: 5.2%",
          "Q.T. Unans calls: 54.22%",
          "Q.T. Unans calls: 56.05%",
          "Q.T. Unans calls: 56.15%",
          "Q.T. Unans calls: 56.38%",
          "Q.T. Unans calls: 58.88%",
          "Total queue time: 112 hrs",
          "Total queue time: 162 hrs",
          "Total queue time: 221 hrs",
          "Total queue time: 310 hrs",
          "Total queue time: 355 hrs",
          "Total queue time: 396 hrs",
          "Year: 2015",
          "Year: 2016",
          "Year: 2017",
          "Year: 2018",
          "Year: 2019",
          "Year: 2020",
          "Yearly queue time in hours"
         ],
         "marker": {
          "coloraxis": "coloraxis",
          "colors": [
           112,
           310,
           221,
           162,
           355,
           396,
           112,
           162,
           221,
           310,
           355,
           396,
           396,
           112,
           310,
           221,
           355,
           162,
           299.8521850899743
          ]
         },
         "name": "",
         "parents": [
          "Yearly queue time in hours/Year: 2016/Total queue time: 112 hrs",
          "Yearly queue time in hours/Year: 2017/Total queue time: 310 hrs",
          "Yearly queue time in hours/Year: 2018/Total queue time: 221 hrs",
          "Yearly queue time in hours/Year: 2020/Total queue time: 162 hrs",
          "Yearly queue time in hours/Year: 2019/Total queue time: 355 hrs",
          "Yearly queue time in hours/Year: 2015/Total queue time: 396 hrs",
          "Yearly queue time in hours/Year: 2016",
          "Yearly queue time in hours/Year: 2020",
          "Yearly queue time in hours/Year: 2018",
          "Yearly queue time in hours/Year: 2017",
          "Yearly queue time in hours/Year: 2019",
          "Yearly queue time in hours/Year: 2015",
          "Yearly queue time in hours",
          "Yearly queue time in hours",
          "Yearly queue time in hours",
          "Yearly queue time in hours",
          "Yearly queue time in hours",
          "Yearly queue time in hours",
          ""
         ],
         "type": "treemap",
         "values": [
          112,
          310,
          221,
          162,
          355,
          396,
          112,
          162,
          221,
          310,
          355,
          396,
          396,
          112,
          310,
          221,
          355,
          162,
          1556
         ]
        }
       ],
       "layout": {
        "coloraxis": {
         "colorbar": {
          "title": {
           "text": "total_queue_time"
          }
         },
         "colorscale": [
          [
           0,
           "rgb(253, 224, 197)"
          ],
          [
           0.16666666666666666,
           "rgb(250, 203, 166)"
          ],
          [
           0.3333333333333333,
           "rgb(248, 181, 139)"
          ],
          [
           0.5,
           "rgb(245, 158, 114)"
          ],
          [
           0.6666666666666666,
           "rgb(242, 133, 93)"
          ],
          [
           0.8333333333333334,
           "rgb(239, 106, 76)"
          ],
          [
           1,
           "rgb(235, 74, 64)"
          ]
         ]
        },
        "legend": {
         "tracegroupgap": 0
        },
        "margin": {
         "t": 60
        },
        "template": {
         "data": {
          "bar": [
           {
            "error_x": {
             "color": "#2a3f5f"
            },
            "error_y": {
             "color": "#2a3f5f"
            },
            "marker": {
             "line": {
              "color": "#E5ECF6",
              "width": 0.5
             }
            },
            "type": "bar"
           }
          ],
          "barpolar": [
           {
            "marker": {
             "line": {
              "color": "#E5ECF6",
              "width": 0.5
             }
            },
            "type": "barpolar"
           }
          ],
          "carpet": [
           {
            "aaxis": {
             "endlinecolor": "#2a3f5f",
             "gridcolor": "white",
             "linecolor": "white",
             "minorgridcolor": "white",
             "startlinecolor": "#2a3f5f"
            },
            "baxis": {
             "endlinecolor": "#2a3f5f",
             "gridcolor": "white",
             "linecolor": "white",
             "minorgridcolor": "white",
             "startlinecolor": "#2a3f5f"
            },
            "type": "carpet"
           }
          ],
          "choropleth": [
           {
            "colorbar": {
             "outlinewidth": 0,
             "ticks": ""
            },
            "type": "choropleth"
           }
          ],
          "contour": [
           {
            "colorbar": {
             "outlinewidth": 0,
             "ticks": ""
            },
            "colorscale": [
             [
              0,
              "#0d0887"
             ],
             [
              0.1111111111111111,
              "#46039f"
             ],
             [
              0.2222222222222222,
              "#7201a8"
             ],
             [
              0.3333333333333333,
              "#9c179e"
             ],
             [
              0.4444444444444444,
              "#bd3786"
             ],
             [
              0.5555555555555556,
              "#d8576b"
             ],
             [
              0.6666666666666666,
              "#ed7953"
             ],
             [
              0.7777777777777778,
              "#fb9f3a"
             ],
             [
              0.8888888888888888,
              "#fdca26"
             ],
             [
              1,
              "#f0f921"
             ]
            ],
            "type": "contour"
           }
          ],
          "contourcarpet": [
           {
            "colorbar": {
             "outlinewidth": 0,
             "ticks": ""
            },
            "type": "contourcarpet"
           }
          ],
          "heatmap": [
           {
            "colorbar": {
             "outlinewidth": 0,
             "ticks": ""
            },
            "colorscale": [
             [
              0,
              "#0d0887"
             ],
             [
              0.1111111111111111,
              "#46039f"
             ],
             [
              0.2222222222222222,
              "#7201a8"
             ],
             [
              0.3333333333333333,
              "#9c179e"
             ],
             [
              0.4444444444444444,
              "#bd3786"
             ],
             [
              0.5555555555555556,
              "#d8576b"
             ],
             [
              0.6666666666666666,
              "#ed7953"
             ],
             [
              0.7777777777777778,
              "#fb9f3a"
             ],
             [
              0.8888888888888888,
              "#fdca26"
             ],
             [
              1,
              "#f0f921"
             ]
            ],
            "type": "heatmap"
           }
          ],
          "heatmapgl": [
           {
            "colorbar": {
             "outlinewidth": 0,
             "ticks": ""
            },
            "colorscale": [
             [
              0,
              "#0d0887"
             ],
             [
              0.1111111111111111,
              "#46039f"
             ],
             [
              0.2222222222222222,
              "#7201a8"
             ],
             [
              0.3333333333333333,
              "#9c179e"
             ],
             [
              0.4444444444444444,
              "#bd3786"
             ],
             [
              0.5555555555555556,
              "#d8576b"
             ],
             [
              0.6666666666666666,
              "#ed7953"
             ],
             [
              0.7777777777777778,
              "#fb9f3a"
             ],
             [
              0.8888888888888888,
              "#fdca26"
             ],
             [
              1,
              "#f0f921"
             ]
            ],
            "type": "heatmapgl"
           }
          ],
          "histogram": [
           {
            "marker": {
             "colorbar": {
              "outlinewidth": 0,
              "ticks": ""
             }
            },
            "type": "histogram"
           }
          ],
          "histogram2d": [
           {
            "colorbar": {
             "outlinewidth": 0,
             "ticks": ""
            },
            "colorscale": [
             [
              0,
              "#0d0887"
             ],
             [
              0.1111111111111111,
              "#46039f"
             ],
             [
              0.2222222222222222,
              "#7201a8"
             ],
             [
              0.3333333333333333,
              "#9c179e"
             ],
             [
              0.4444444444444444,
              "#bd3786"
             ],
             [
              0.5555555555555556,
              "#d8576b"
             ],
             [
              0.6666666666666666,
              "#ed7953"
             ],
             [
              0.7777777777777778,
              "#fb9f3a"
             ],
             [
              0.8888888888888888,
              "#fdca26"
             ],
             [
              1,
              "#f0f921"
             ]
            ],
            "type": "histogram2d"
           }
          ],
          "histogram2dcontour": [
           {
            "colorbar": {
             "outlinewidth": 0,
             "ticks": ""
            },
            "colorscale": [
             [
              0,
              "#0d0887"
             ],
             [
              0.1111111111111111,
              "#46039f"
             ],
             [
              0.2222222222222222,
              "#7201a8"
             ],
             [
              0.3333333333333333,
              "#9c179e"
             ],
             [
              0.4444444444444444,
              "#bd3786"
             ],
             [
              0.5555555555555556,
              "#d8576b"
             ],
             [
              0.6666666666666666,
              "#ed7953"
             ],
             [
              0.7777777777777778,
              "#fb9f3a"
             ],
             [
              0.8888888888888888,
              "#fdca26"
             ],
             [
              1,
              "#f0f921"
             ]
            ],
            "type": "histogram2dcontour"
           }
          ],
          "mesh3d": [
           {
            "colorbar": {
             "outlinewidth": 0,
             "ticks": ""
            },
            "type": "mesh3d"
           }
          ],
          "parcoords": [
           {
            "line": {
             "colorbar": {
              "outlinewidth": 0,
              "ticks": ""
             }
            },
            "type": "parcoords"
           }
          ],
          "pie": [
           {
            "automargin": true,
            "type": "pie"
           }
          ],
          "scatter": [
           {
            "marker": {
             "colorbar": {
              "outlinewidth": 0,
              "ticks": ""
             }
            },
            "type": "scatter"
           }
          ],
          "scatter3d": [
           {
            "line": {
             "colorbar": {
              "outlinewidth": 0,
              "ticks": ""
             }
            },
            "marker": {
             "colorbar": {
              "outlinewidth": 0,
              "ticks": ""
             }
            },
            "type": "scatter3d"
           }
          ],
          "scattercarpet": [
           {
            "marker": {
             "colorbar": {
              "outlinewidth": 0,
              "ticks": ""
             }
            },
            "type": "scattercarpet"
           }
          ],
          "scattergeo": [
           {
            "marker": {
             "colorbar": {
              "outlinewidth": 0,
              "ticks": ""
             }
            },
            "type": "scattergeo"
           }
          ],
          "scattergl": [
           {
            "marker": {
             "colorbar": {
              "outlinewidth": 0,
              "ticks": ""
             }
            },
            "type": "scattergl"
           }
          ],
          "scattermapbox": [
           {
            "marker": {
             "colorbar": {
              "outlinewidth": 0,
              "ticks": ""
             }
            },
            "type": "scattermapbox"
           }
          ],
          "scatterpolar": [
           {
            "marker": {
             "colorbar": {
              "outlinewidth": 0,
              "ticks": ""
             }
            },
            "type": "scatterpolar"
           }
          ],
          "scatterpolargl": [
           {
            "marker": {
             "colorbar": {
              "outlinewidth": 0,
              "ticks": ""
             }
            },
            "type": "scatterpolargl"
           }
          ],
          "scatterternary": [
           {
            "marker": {
             "colorbar": {
              "outlinewidth": 0,
              "ticks": ""
             }
            },
            "type": "scatterternary"
           }
          ],
          "surface": [
           {
            "colorbar": {
             "outlinewidth": 0,
             "ticks": ""
            },
            "colorscale": [
             [
              0,
              "#0d0887"
             ],
             [
              0.1111111111111111,
              "#46039f"
             ],
             [
              0.2222222222222222,
              "#7201a8"
             ],
             [
              0.3333333333333333,
              "#9c179e"
             ],
             [
              0.4444444444444444,
              "#bd3786"
             ],
             [
              0.5555555555555556,
              "#d8576b"
             ],
             [
              0.6666666666666666,
              "#ed7953"
             ],
             [
              0.7777777777777778,
              "#fb9f3a"
             ],
             [
              0.8888888888888888,
              "#fdca26"
             ],
             [
              1,
              "#f0f921"
             ]
            ],
            "type": "surface"
           }
          ],
          "table": [
           {
            "cells": {
             "fill": {
              "color": "#EBF0F8"
             },
             "line": {
              "color": "white"
             }
            },
            "header": {
             "fill": {
              "color": "#C8D4E3"
             },
             "line": {
              "color": "white"
             }
            },
            "type": "table"
           }
          ]
         },
         "layout": {
          "annotationdefaults": {
           "arrowcolor": "#2a3f5f",
           "arrowhead": 0,
           "arrowwidth": 1
          },
          "coloraxis": {
           "colorbar": {
            "outlinewidth": 0,
            "ticks": ""
           }
          },
          "colorscale": {
           "diverging": [
            [
             0,
             "#8e0152"
            ],
            [
             0.1,
             "#c51b7d"
            ],
            [
             0.2,
             "#de77ae"
            ],
            [
             0.3,
             "#f1b6da"
            ],
            [
             0.4,
             "#fde0ef"
            ],
            [
             0.5,
             "#f7f7f7"
            ],
            [
             0.6,
             "#e6f5d0"
            ],
            [
             0.7,
             "#b8e186"
            ],
            [
             0.8,
             "#7fbc41"
            ],
            [
             0.9,
             "#4d9221"
            ],
            [
             1,
             "#276419"
            ]
           ],
           "sequential": [
            [
             0,
             "#0d0887"
            ],
            [
             0.1111111111111111,
             "#46039f"
            ],
            [
             0.2222222222222222,
             "#7201a8"
            ],
            [
             0.3333333333333333,
             "#9c179e"
            ],
            [
             0.4444444444444444,
             "#bd3786"
            ],
            [
             0.5555555555555556,
             "#d8576b"
            ],
            [
             0.6666666666666666,
             "#ed7953"
            ],
            [
             0.7777777777777778,
             "#fb9f3a"
            ],
            [
             0.8888888888888888,
             "#fdca26"
            ],
            [
             1,
             "#f0f921"
            ]
           ],
           "sequentialminus": [
            [
             0,
             "#0d0887"
            ],
            [
             0.1111111111111111,
             "#46039f"
            ],
            [
             0.2222222222222222,
             "#7201a8"
            ],
            [
             0.3333333333333333,
             "#9c179e"
            ],
            [
             0.4444444444444444,
             "#bd3786"
            ],
            [
             0.5555555555555556,
             "#d8576b"
            ],
            [
             0.6666666666666666,
             "#ed7953"
            ],
            [
             0.7777777777777778,
             "#fb9f3a"
            ],
            [
             0.8888888888888888,
             "#fdca26"
            ],
            [
             1,
             "#f0f921"
            ]
           ]
          },
          "colorway": [
           "#636efa",
           "#EF553B",
           "#00cc96",
           "#ab63fa",
           "#FFA15A",
           "#19d3f3",
           "#FF6692",
           "#B6E880",
           "#FF97FF",
           "#FECB52"
          ],
          "font": {
           "color": "#2a3f5f"
          },
          "geo": {
           "bgcolor": "white",
           "lakecolor": "white",
           "landcolor": "#E5ECF6",
           "showlakes": true,
           "showland": true,
           "subunitcolor": "white"
          },
          "hoverlabel": {
           "align": "left"
          },
          "hovermode": "closest",
          "mapbox": {
           "style": "light"
          },
          "paper_bgcolor": "white",
          "plot_bgcolor": "#E5ECF6",
          "polar": {
           "angularaxis": {
            "gridcolor": "white",
            "linecolor": "white",
            "ticks": ""
           },
           "bgcolor": "#E5ECF6",
           "radialaxis": {
            "gridcolor": "white",
            "linecolor": "white",
            "ticks": ""
           }
          },
          "scene": {
           "xaxis": {
            "backgroundcolor": "#E5ECF6",
            "gridcolor": "white",
            "gridwidth": 2,
            "linecolor": "white",
            "showbackground": true,
            "ticks": "",
            "zerolinecolor": "white"
           },
           "yaxis": {
            "backgroundcolor": "#E5ECF6",
            "gridcolor": "white",
            "gridwidth": 2,
            "linecolor": "white",
            "showbackground": true,
            "ticks": "",
            "zerolinecolor": "white"
           },
           "zaxis": {
            "backgroundcolor": "#E5ECF6",
            "gridcolor": "white",
            "gridwidth": 2,
            "linecolor": "white",
            "showbackground": true,
            "ticks": "",
            "zerolinecolor": "white"
           }
          },
          "shapedefaults": {
           "line": {
            "color": "#2a3f5f"
           }
          },
          "ternary": {
           "aaxis": {
            "gridcolor": "white",
            "linecolor": "white",
            "ticks": ""
           },
           "baxis": {
            "gridcolor": "white",
            "linecolor": "white",
            "ticks": ""
           },
           "bgcolor": "#E5ECF6",
           "caxis": {
            "gridcolor": "white",
            "linecolor": "white",
            "ticks": ""
           }
          },
          "title": {
           "x": 0.05
          },
          "xaxis": {
           "automargin": true,
           "gridcolor": "white",
           "linecolor": "white",
           "ticks": "",
           "title": {
            "standoff": 15
           },
           "zerolinecolor": "white",
           "zerolinewidth": 2
          },
          "yaxis": {
           "automargin": true,
           "gridcolor": "white",
           "linecolor": "white",
           "ticks": "",
           "title": {
            "standoff": 15
           },
           "zerolinecolor": "white",
           "zerolinewidth": 2
          }
         }
        }
       }
      },
      "text/html": [
       "<div>                            <div id=\"51c47a05-3f29-4a89-8375-8ae36a647d41\" class=\"plotly-graph-div\" style=\"height:525px; width:100%;\"></div>            <script type=\"text/javascript\">                require([\"plotly\"], function(Plotly) {                    window.PLOTLYENV=window.PLOTLYENV || {};                                    if (document.getElementById(\"51c47a05-3f29-4a89-8375-8ae36a647d41\")) {                    Plotly.newPlot(                        \"51c47a05-3f29-4a89-8375-8ae36a647d41\",                        [{\"branchvalues\": \"total\", \"customdata\": [[112.0], [310.0], [221.0], [162.0], [355.0], [396.0], [112.0], [162.0], [221.0], [310.0], [355.0], [396.0], [396.0], [112.0], [310.0], [221.0], [355.0], [162.0], [299.8521850899743]], \"domain\": {\"x\": [0.0, 1.0], \"y\": [0.0, 1.0]}, \"hovertemplate\": \"labels=%{label}<br>total_queue_time_sum=%{value}<br>parent=%{parent}<br>id=%{id}<br>total_queue_time=%{color}<extra></extra>\", \"ids\": [\"Yearly queue time in hours/Year: 2016/Total queue time: 112 hrs/Q.T. Unans calls: 5.2%\", \"Yearly queue time in hours/Year: 2017/Total queue time: 310 hrs/Q.T. Unans calls: 54.22%\", \"Yearly queue time in hours/Year: 2018/Total queue time: 221 hrs/Q.T. Unans calls: 56.05%\", \"Yearly queue time in hours/Year: 2020/Total queue time: 162 hrs/Q.T. Unans calls: 56.15%\", \"Yearly queue time in hours/Year: 2019/Total queue time: 355 hrs/Q.T. Unans calls: 56.38%\", \"Yearly queue time in hours/Year: 2015/Total queue time: 396 hrs/Q.T. Unans calls: 58.88%\", \"Yearly queue time in hours/Year: 2016/Total queue time: 112 hrs\", \"Yearly queue time in hours/Year: 2020/Total queue time: 162 hrs\", \"Yearly queue time in hours/Year: 2018/Total queue time: 221 hrs\", \"Yearly queue time in hours/Year: 2017/Total queue time: 310 hrs\", \"Yearly queue time in hours/Year: 2019/Total queue time: 355 hrs\", \"Yearly queue time in hours/Year: 2015/Total queue time: 396 hrs\", \"Yearly queue time in hours/Year: 2015\", \"Yearly queue time in hours/Year: 2016\", \"Yearly queue time in hours/Year: 2017\", \"Yearly queue time in hours/Year: 2018\", \"Yearly queue time in hours/Year: 2019\", \"Yearly queue time in hours/Year: 2020\", \"Yearly queue time in hours\"], \"labels\": [\"Q.T. Unans calls: 5.2%\", \"Q.T. Unans calls: 54.22%\", \"Q.T. Unans calls: 56.05%\", \"Q.T. Unans calls: 56.15%\", \"Q.T. Unans calls: 56.38%\", \"Q.T. Unans calls: 58.88%\", \"Total queue time: 112 hrs\", \"Total queue time: 162 hrs\", \"Total queue time: 221 hrs\", \"Total queue time: 310 hrs\", \"Total queue time: 355 hrs\", \"Total queue time: 396 hrs\", \"Year: 2015\", \"Year: 2016\", \"Year: 2017\", \"Year: 2018\", \"Year: 2019\", \"Year: 2020\", \"Yearly queue time in hours\"], \"marker\": {\"coloraxis\": \"coloraxis\", \"colors\": [112.0, 310.0, 221.0, 162.0, 355.0, 396.0, 112.0, 162.0, 221.0, 310.0, 355.0, 396.0, 396.0, 112.0, 310.0, 221.0, 355.0, 162.0, 299.8521850899743]}, \"name\": \"\", \"parents\": [\"Yearly queue time in hours/Year: 2016/Total queue time: 112 hrs\", \"Yearly queue time in hours/Year: 2017/Total queue time: 310 hrs\", \"Yearly queue time in hours/Year: 2018/Total queue time: 221 hrs\", \"Yearly queue time in hours/Year: 2020/Total queue time: 162 hrs\", \"Yearly queue time in hours/Year: 2019/Total queue time: 355 hrs\", \"Yearly queue time in hours/Year: 2015/Total queue time: 396 hrs\", \"Yearly queue time in hours/Year: 2016\", \"Yearly queue time in hours/Year: 2020\", \"Yearly queue time in hours/Year: 2018\", \"Yearly queue time in hours/Year: 2017\", \"Yearly queue time in hours/Year: 2019\", \"Yearly queue time in hours/Year: 2015\", \"Yearly queue time in hours\", \"Yearly queue time in hours\", \"Yearly queue time in hours\", \"Yearly queue time in hours\", \"Yearly queue time in hours\", \"Yearly queue time in hours\", \"\"], \"type\": \"treemap\", \"values\": [112, 310, 221, 162, 355, 396, 112, 162, 221, 310, 355, 396, 396, 112, 310, 221, 355, 162, 1556]}],                        {\"coloraxis\": {\"colorbar\": {\"title\": {\"text\": \"total_queue_time\"}}, \"colorscale\": [[0.0, \"rgb(253, 224, 197)\"], [0.16666666666666666, \"rgb(250, 203, 166)\"], [0.3333333333333333, \"rgb(248, 181, 139)\"], [0.5, \"rgb(245, 158, 114)\"], [0.6666666666666666, \"rgb(242, 133, 93)\"], [0.8333333333333334, \"rgb(239, 106, 76)\"], [1.0, \"rgb(235, 74, 64)\"]]}, \"legend\": {\"tracegroupgap\": 0}, \"margin\": {\"t\": 60}, \"template\": {\"data\": {\"bar\": [{\"error_x\": {\"color\": \"#2a3f5f\"}, \"error_y\": {\"color\": \"#2a3f5f\"}, \"marker\": {\"line\": {\"color\": \"#E5ECF6\", \"width\": 0.5}}, \"type\": \"bar\"}], \"barpolar\": [{\"marker\": {\"line\": {\"color\": \"#E5ECF6\", \"width\": 0.5}}, \"type\": \"barpolar\"}], \"carpet\": [{\"aaxis\": {\"endlinecolor\": \"#2a3f5f\", \"gridcolor\": \"white\", \"linecolor\": \"white\", \"minorgridcolor\": \"white\", \"startlinecolor\": \"#2a3f5f\"}, \"baxis\": {\"endlinecolor\": \"#2a3f5f\", \"gridcolor\": \"white\", \"linecolor\": \"white\", \"minorgridcolor\": \"white\", \"startlinecolor\": \"#2a3f5f\"}, \"type\": \"carpet\"}], \"choropleth\": [{\"colorbar\": {\"outlinewidth\": 0, \"ticks\": \"\"}, \"type\": \"choropleth\"}], \"contour\": [{\"colorbar\": {\"outlinewidth\": 0, \"ticks\": \"\"}, \"colorscale\": [[0.0, \"#0d0887\"], [0.1111111111111111, \"#46039f\"], [0.2222222222222222, \"#7201a8\"], [0.3333333333333333, \"#9c179e\"], [0.4444444444444444, \"#bd3786\"], [0.5555555555555556, \"#d8576b\"], [0.6666666666666666, \"#ed7953\"], [0.7777777777777778, \"#fb9f3a\"], [0.8888888888888888, \"#fdca26\"], [1.0, \"#f0f921\"]], \"type\": \"contour\"}], \"contourcarpet\": [{\"colorbar\": {\"outlinewidth\": 0, \"ticks\": \"\"}, \"type\": \"contourcarpet\"}], \"heatmap\": [{\"colorbar\": {\"outlinewidth\": 0, \"ticks\": \"\"}, \"colorscale\": [[0.0, \"#0d0887\"], [0.1111111111111111, \"#46039f\"], [0.2222222222222222, \"#7201a8\"], [0.3333333333333333, \"#9c179e\"], [0.4444444444444444, \"#bd3786\"], [0.5555555555555556, \"#d8576b\"], [0.6666666666666666, \"#ed7953\"], [0.7777777777777778, \"#fb9f3a\"], [0.8888888888888888, \"#fdca26\"], [1.0, \"#f0f921\"]], \"type\": \"heatmap\"}], \"heatmapgl\": [{\"colorbar\": {\"outlinewidth\": 0, \"ticks\": \"\"}, \"colorscale\": [[0.0, \"#0d0887\"], [0.1111111111111111, \"#46039f\"], [0.2222222222222222, \"#7201a8\"], [0.3333333333333333, \"#9c179e\"], [0.4444444444444444, \"#bd3786\"], [0.5555555555555556, \"#d8576b\"], [0.6666666666666666, \"#ed7953\"], [0.7777777777777778, \"#fb9f3a\"], [0.8888888888888888, \"#fdca26\"], [1.0, \"#f0f921\"]], \"type\": \"heatmapgl\"}], \"histogram\": [{\"marker\": {\"colorbar\": {\"outlinewidth\": 0, \"ticks\": \"\"}}, \"type\": \"histogram\"}], \"histogram2d\": [{\"colorbar\": {\"outlinewidth\": 0, \"ticks\": \"\"}, \"colorscale\": [[0.0, \"#0d0887\"], [0.1111111111111111, \"#46039f\"], [0.2222222222222222, \"#7201a8\"], [0.3333333333333333, \"#9c179e\"], [0.4444444444444444, \"#bd3786\"], [0.5555555555555556, \"#d8576b\"], [0.6666666666666666, \"#ed7953\"], [0.7777777777777778, \"#fb9f3a\"], [0.8888888888888888, \"#fdca26\"], [1.0, \"#f0f921\"]], \"type\": \"histogram2d\"}], \"histogram2dcontour\": [{\"colorbar\": {\"outlinewidth\": 0, \"ticks\": \"\"}, \"colorscale\": [[0.0, \"#0d0887\"], [0.1111111111111111, \"#46039f\"], [0.2222222222222222, \"#7201a8\"], [0.3333333333333333, \"#9c179e\"], [0.4444444444444444, \"#bd3786\"], [0.5555555555555556, \"#d8576b\"], [0.6666666666666666, \"#ed7953\"], [0.7777777777777778, \"#fb9f3a\"], [0.8888888888888888, \"#fdca26\"], [1.0, \"#f0f921\"]], \"type\": \"histogram2dcontour\"}], \"mesh3d\": [{\"colorbar\": {\"outlinewidth\": 0, \"ticks\": \"\"}, \"type\": \"mesh3d\"}], \"parcoords\": [{\"line\": {\"colorbar\": {\"outlinewidth\": 0, \"ticks\": \"\"}}, \"type\": \"parcoords\"}], \"pie\": [{\"automargin\": true, \"type\": \"pie\"}], \"scatter\": [{\"marker\": {\"colorbar\": {\"outlinewidth\": 0, \"ticks\": \"\"}}, \"type\": \"scatter\"}], \"scatter3d\": [{\"line\": {\"colorbar\": {\"outlinewidth\": 0, \"ticks\": \"\"}}, \"marker\": {\"colorbar\": {\"outlinewidth\": 0, \"ticks\": \"\"}}, \"type\": \"scatter3d\"}], \"scattercarpet\": [{\"marker\": {\"colorbar\": {\"outlinewidth\": 0, \"ticks\": \"\"}}, \"type\": \"scattercarpet\"}], \"scattergeo\": [{\"marker\": {\"colorbar\": {\"outlinewidth\": 0, \"ticks\": \"\"}}, \"type\": \"scattergeo\"}], \"scattergl\": [{\"marker\": {\"colorbar\": {\"outlinewidth\": 0, \"ticks\": \"\"}}, \"type\": \"scattergl\"}], \"scattermapbox\": [{\"marker\": {\"colorbar\": {\"outlinewidth\": 0, \"ticks\": \"\"}}, \"type\": \"scattermapbox\"}], \"scatterpolar\": [{\"marker\": {\"colorbar\": {\"outlinewidth\": 0, \"ticks\": \"\"}}, \"type\": \"scatterpolar\"}], \"scatterpolargl\": [{\"marker\": {\"colorbar\": {\"outlinewidth\": 0, \"ticks\": \"\"}}, \"type\": \"scatterpolargl\"}], \"scatterternary\": [{\"marker\": {\"colorbar\": {\"outlinewidth\": 0, \"ticks\": \"\"}}, \"type\": \"scatterternary\"}], \"surface\": [{\"colorbar\": {\"outlinewidth\": 0, \"ticks\": \"\"}, \"colorscale\": [[0.0, \"#0d0887\"], [0.1111111111111111, \"#46039f\"], [0.2222222222222222, \"#7201a8\"], [0.3333333333333333, \"#9c179e\"], [0.4444444444444444, \"#bd3786\"], [0.5555555555555556, \"#d8576b\"], [0.6666666666666666, \"#ed7953\"], [0.7777777777777778, \"#fb9f3a\"], [0.8888888888888888, \"#fdca26\"], [1.0, \"#f0f921\"]], \"type\": \"surface\"}], \"table\": [{\"cells\": {\"fill\": {\"color\": \"#EBF0F8\"}, \"line\": {\"color\": \"white\"}}, \"header\": {\"fill\": {\"color\": \"#C8D4E3\"}, \"line\": {\"color\": \"white\"}}, \"type\": \"table\"}]}, \"layout\": {\"annotationdefaults\": {\"arrowcolor\": \"#2a3f5f\", \"arrowhead\": 0, \"arrowwidth\": 1}, \"coloraxis\": {\"colorbar\": {\"outlinewidth\": 0, \"ticks\": \"\"}}, \"colorscale\": {\"diverging\": [[0, \"#8e0152\"], [0.1, \"#c51b7d\"], [0.2, \"#de77ae\"], [0.3, \"#f1b6da\"], [0.4, \"#fde0ef\"], [0.5, \"#f7f7f7\"], [0.6, \"#e6f5d0\"], [0.7, \"#b8e186\"], [0.8, \"#7fbc41\"], [0.9, \"#4d9221\"], [1, \"#276419\"]], \"sequential\": [[0.0, \"#0d0887\"], [0.1111111111111111, \"#46039f\"], [0.2222222222222222, \"#7201a8\"], [0.3333333333333333, \"#9c179e\"], [0.4444444444444444, \"#bd3786\"], [0.5555555555555556, \"#d8576b\"], [0.6666666666666666, \"#ed7953\"], [0.7777777777777778, \"#fb9f3a\"], [0.8888888888888888, \"#fdca26\"], [1.0, \"#f0f921\"]], \"sequentialminus\": [[0.0, \"#0d0887\"], [0.1111111111111111, \"#46039f\"], [0.2222222222222222, \"#7201a8\"], [0.3333333333333333, \"#9c179e\"], [0.4444444444444444, \"#bd3786\"], [0.5555555555555556, \"#d8576b\"], [0.6666666666666666, \"#ed7953\"], [0.7777777777777778, \"#fb9f3a\"], [0.8888888888888888, \"#fdca26\"], [1.0, \"#f0f921\"]]}, \"colorway\": [\"#636efa\", \"#EF553B\", \"#00cc96\", \"#ab63fa\", \"#FFA15A\", \"#19d3f3\", \"#FF6692\", \"#B6E880\", \"#FF97FF\", \"#FECB52\"], \"font\": {\"color\": \"#2a3f5f\"}, \"geo\": {\"bgcolor\": \"white\", \"lakecolor\": \"white\", \"landcolor\": \"#E5ECF6\", \"showlakes\": true, \"showland\": true, \"subunitcolor\": \"white\"}, \"hoverlabel\": {\"align\": \"left\"}, \"hovermode\": \"closest\", \"mapbox\": {\"style\": \"light\"}, \"paper_bgcolor\": \"white\", \"plot_bgcolor\": \"#E5ECF6\", \"polar\": {\"angularaxis\": {\"gridcolor\": \"white\", \"linecolor\": \"white\", \"ticks\": \"\"}, \"bgcolor\": \"#E5ECF6\", \"radialaxis\": {\"gridcolor\": \"white\", \"linecolor\": \"white\", \"ticks\": \"\"}}, \"scene\": {\"xaxis\": {\"backgroundcolor\": \"#E5ECF6\", \"gridcolor\": \"white\", \"gridwidth\": 2, \"linecolor\": \"white\", \"showbackground\": true, \"ticks\": \"\", \"zerolinecolor\": \"white\"}, \"yaxis\": {\"backgroundcolor\": \"#E5ECF6\", \"gridcolor\": \"white\", \"gridwidth\": 2, \"linecolor\": \"white\", \"showbackground\": true, \"ticks\": \"\", \"zerolinecolor\": \"white\"}, \"zaxis\": {\"backgroundcolor\": \"#E5ECF6\", \"gridcolor\": \"white\", \"gridwidth\": 2, \"linecolor\": \"white\", \"showbackground\": true, \"ticks\": \"\", \"zerolinecolor\": \"white\"}}, \"shapedefaults\": {\"line\": {\"color\": \"#2a3f5f\"}}, \"ternary\": {\"aaxis\": {\"gridcolor\": \"white\", \"linecolor\": \"white\", \"ticks\": \"\"}, \"baxis\": {\"gridcolor\": \"white\", \"linecolor\": \"white\", \"ticks\": \"\"}, \"bgcolor\": \"#E5ECF6\", \"caxis\": {\"gridcolor\": \"white\", \"linecolor\": \"white\", \"ticks\": \"\"}}, \"title\": {\"x\": 0.05}, \"xaxis\": {\"automargin\": true, \"gridcolor\": \"white\", \"linecolor\": \"white\", \"ticks\": \"\", \"title\": {\"standoff\": 15}, \"zerolinecolor\": \"white\", \"zerolinewidth\": 2}, \"yaxis\": {\"automargin\": true, \"gridcolor\": \"white\", \"linecolor\": \"white\", \"ticks\": \"\", \"title\": {\"standoff\": 15}, \"zerolinecolor\": \"white\", \"zerolinewidth\": 2}}}},                        {\"responsive\": true}                    ).then(function(){\n",
       "                            \n",
       "var gd = document.getElementById('51c47a05-3f29-4a89-8375-8ae36a647d41');\n",
       "var x = new MutationObserver(function (mutations, observer) {{\n",
       "        var display = window.getComputedStyle(gd).display;\n",
       "        if (!display || display === 'none') {{\n",
       "            console.log([gd, 'removed!']);\n",
       "            Plotly.purge(gd);\n",
       "            observer.disconnect();\n",
       "        }}\n",
       "}});\n",
       "\n",
       "// Listen for the removal of the full notebook cells\n",
       "var notebookContainer = gd.closest('#notebook-container');\n",
       "if (notebookContainer) {{\n",
       "    x.observe(notebookContainer, {childList: true});\n",
       "}}\n",
       "\n",
       "// Listen for the clearing of the current output cell\n",
       "var outputEl = gd.closest('.output');\n",
       "if (outputEl) {{\n",
       "    x.observe(outputEl, {childList: true});\n",
       "}}\n",
       "\n",
       "                        })                };                });            </script>        </div>"
      ]
     },
     "metadata": {},
     "output_type": "display_data"
    }
   ],
   "source": [
    "fig = px.treemap(df_queuetime, \n",
    "                 path=['label','year','total_queue_time_label', 'total_unans_qt'], \n",
    "                 values='total_queue_time',\n",
    "                 color_continuous_scale='peach',\n",
    "                 color='total_queue_time'#,\n",
    "                 #title='Total Queue time every year'\n",
    "                )\n",
    "fig.write_html(\"qt.html\")\n",
    "fig.show()\n"
   ]
  },
  {
   "cell_type": "markdown",
   "metadata": {},
   "source": [
    "It can be seen from above that queue time in $2016$ is aproximately $2-3$ times lesser than other years and also the unanswered calls in year $2016$ were around $10$ times lesser than other years.\n"
   ]
  },
  {
   "cell_type": "markdown",
   "metadata": {},
   "source": [
    "## Statistics on calls based on top 3 picks from each month\n",
    "\n",
    "In this analysis, top 3 months are picked from every year for each category and then percentage is calculated based on the frequency achieved for each month.<br>\n",
    "For an example if a month gets $100$% then that means every year that month has been among top three months for that category in other words $6$ times that month has come among top three months out of all $6$ years.  <br>\n",
    "So $83.33$% means $5$ out of $6$ times which is simply the ratio $ \\frac{5}{6} =0.8333 $, where as $66.67$% means 4 out of 6 times which is $ \\frac{4}{6} =0.6667 $ and so on.\n",
    "\n",
    "<br>\n",
    "In below graphs every month which has appeared tells that it has come atleast once in top 3 statistic and its percentage tells how strongly it follows the given category."
   ]
  },
  {
   "cell_type": "markdown",
   "metadata": {},
   "source": [
    "### Number of calls statistics\n",
    "Here every year top three months are calculated which are having the most/least number of calls and then from all six years (2015-2020) based on number of times a month has appeared its percentage is calculated."
   ]
  },
  {
   "cell_type": "code",
   "execution_count": 1058,
   "metadata": {},
   "outputs": [
    {
     "data": {
      "image/png": "[encoded data removed]",
      "text/plain": [
       "<Figure size 1144x320 with 2 Axes>"
      ]
     },
     "metadata": {},
     "output_type": "display_data"
    }
   ],
   "source": [
    "#Calls\n",
    "plot_treemap_sidebyside(nc_m,nc_l,'percentage','label','Higest number of calls','Lowest number of calls')"
   ]
  },
  {
   "cell_type": "markdown",
   "metadata": {},
   "source": [
    "\n",
    "- With above visualization it is clear that Jun, Jul followed by May are the months when there were be more number of calls where as Jan is the month mostly with low number of calls."
   ]
  },
  {
   "cell_type": "markdown",
   "metadata": {},
   "source": [
    "### Analysis of used Talk Time\n",
    "Here in this analysis used talk time is calculated for every month and then figured out the top three months for every year in which the most and least talk time is used. "
   ]
  },
  {
   "cell_type": "code",
   "execution_count": 16,
   "metadata": {},
   "outputs": [
    {
     "data": {
      "image/png": "[encoded data removed]",
      "text/plain": [
       "<Figure size 1144x320 with 2 Axes>"
      ]
     },
     "metadata": {},
     "output_type": "display_data"
    }
   ],
   "source": [
    "#att_m,att_l\n",
    "plot_treemap_sidebyside(att_m,att_l,'percentage','label','Most talk time used','Least talk time used')"
   ]
  },
  {
   "cell_type": "markdown",
   "metadata": {},
   "source": [
    "From above it can be inferred that June is the month which has appeared atleast $4$ times out of $6$ years in top three months where most of the talktime is used whereas January appearing for least talk time used."
   ]
  },
  {
   "cell_type": "markdown",
   "metadata": {},
   "source": [
    "### Analysis of Unanswered calls\n",
    "In this analysis number of unanswered calls counted for every month and then figured out the top three months for every year in which there most and least number of unanswered calls."
   ]
  },
  {
   "cell_type": "code",
   "execution_count": 1021,
   "metadata": {},
   "outputs": [
    {
     "data": {
      "image/png": "[encoded data removed]",
      "text/plain": [
       "<Figure size 1144x320 with 2 Axes>"
      ]
     },
     "metadata": {},
     "output_type": "display_data"
    }
   ],
   "source": [
    "#UnansStats\n",
    "plot_treemap_sidebyside(unans_m,unans_l,'percentage','label','Most number of unanswered calls','Least number of unanswered calls')"
   ]
  },
  {
   "cell_type": "markdown",
   "metadata": {},
   "source": [
    "Here May is the month which is having most number of unanswered calls.\n",
    "\n",
    "\n",
    "### Correlations in above findings\n",
    "* **July** has $66.6$% chances of being in one of top $3$ months where *most of the talktime* is used which is also supported by the *number of calls* statistic as it is also among top $3$ months which are having *most number of calls* with $83.33$% chance.\n",
    "* **January** is among top $3$ months which are having least number of calls and which is supported by its least talk time statistic.\n",
    "* **May** has the highest chances of landing among top $3$ months which are having *most number of unanswered calls* and also it has $66.67$% of chances of landing among top $3$ months for *most number of calls*. Which suggests that out of all $6$ years $4$ times may has come among top $3$ months which are having both most number of calls and most number of answered calls.\n"
   ]
  },
  {
   "cell_type": "markdown",
   "metadata": {},
   "source": [
    "## Analysis on Queue Time.\n",
    "Here calls from all years have taken together to analyse how many seconds a person is willing to wait before he or she drops the call.  ."
   ]
  },
  {
   "cell_type": "code",
   "execution_count": 1059,
   "metadata": {},
   "outputs": [
    {
     "data": {
      "image/png": "[encoded data removed]",
      "text/plain": [
       "<Figure size 576x360 with 1 Axes>"
      ]
     },
     "metadata": {
      "needs_background": "light"
     },
     "output_type": "display_data"
    }
   ],
   "source": [
    "plot_queuetime_stats(qt_20,qt_19,qt_18,qt_17,qt_16,qt_15)"
   ]
  },
  {
   "cell_type": "markdown",
   "metadata": {},
   "source": [
    "From above visualization it can be said $61.04$% times people are willing to wait till $50$ to $60$ seconds.  "
   ]
  },
  {
   "cell_type": "markdown",
   "metadata": {},
   "source": [
    "### Probability of dropping a call after 50 secs when it is known that call has not been dropped during the first 20 sec.\n",
    "\n",
    "$P = \\frac {0.6104}{1-0.2314}=0.7941$\n",
    "\n",
    "The probability tells us that there are $79.41$% of chances that if person has not dropped a call during the first $20$ seconds then he or she will drop it after $50$ seconds.\n",
    "\n",
    "\n",
    "*The simulation of above probablity is done in R and code can be found at https://github.com/Abhisheks0ni/NirmaanNGO/blob/main/prob_simulation.R , the result of which gives us confidence that calculated probablity is correct.*  \n",
    "<br>\n",
    "<br>\n",
    "<br>\n",
    "<br>"
   ]
  },
  {
   "cell_type": "markdown",
   "metadata": {},
   "source": [
    "\n",
    "**Author**: Abhishek Soni<br>\n",
    "**Email**:  abhisheksoni@hotmail.com"
   ]
  },
  {
   "cell_type": "code",
   "execution_count": 229,
   "metadata": {},
   "outputs": [
    {
     "data": {
      "text/html": [
       "        <script type=\"text/javascript\">\n",
       "        window.PlotlyConfig = {MathJaxConfig: 'local'};\n",
       "        if (window.MathJax) {MathJax.Hub.Config({SVG: {font: \"STIX-Web\"}});}\n",
       "        if (typeof require !== 'undefined') {\n",
       "        require.undef(\"plotly\");\n",
       "        requirejs.config({\n",
       "            paths: {\n",
       "                'plotly': ['https://cdn.plot.ly/plotly-latest.min']\n",
       "            }\n",
       "        });\n",
       "        require(['plotly'], function(Plotly) {\n",
       "            window._Plotly = Plotly;\n",
       "        });\n",
       "        }\n",
       "        </script>\n",
       "        "
      ]
     },
     "metadata": {},
     "output_type": "display_data"
    },
    {
     "data": {
      "text/html": [
       "<script>$(\"div.input\").hide()</script>"
      ],
      "text/plain": [
       "<IPython.core.display.HTML object>"
      ]
     },
     "metadata": {},
     "output_type": "display_data"
    },
    {
     "data": {
      "application/vnd.jupyter.widget-view+json": {
       "model_id": "44391daff58f4b21b141631246573579",
       "version_major": 2,
       "version_minor": 0
      },
      "text/plain": [
       "ToggleButton(value=False, description='Show code')"
      ]
     },
     "metadata": {},
     "output_type": "display_data"
    },
    {
     "data": {
      "text/html": [
       "<script>$(\"div.input\").show()</script>"
      ],
      "text/plain": [
       "<IPython.core.display.HTML object>"
      ]
     },
     "metadata": {},
     "output_type": "display_data"
    }
   ],
   "source": [
    "import ipywidgets as widgets\n",
    "from IPython.display import display, HTML\n",
    "import plotly\n",
    "import plotly.graph_objs as go\n",
    "init_notebook_mode(connected=True)\n",
    "\n",
    "javascript_functions = {False: \"hide()\", True: \"show()\"}\n",
    "button_descriptions  = {False: \"Show code\", True: \"Hide code\"}\n",
    "\n",
    "\n",
    "def toggle_code(state):\n",
    "\n",
    "    \"\"\"\n",
    "    Toggles the JavaScript show()/hide() function on the div.input element.\n",
    "    \"\"\"\n",
    "\n",
    "    output_string = \"<script>$(\\\"div.input\\\").{}</script>\"\n",
    "    output_args   = (javascript_functions[state],)\n",
    "    output        = output_string.format(*output_args)\n",
    "\n",
    "    display(HTML(output))\n",
    "\n",
    "\n",
    "def button_action(value):\n",
    "\n",
    "    \"\"\"\n",
    "    Calls the toggle_code function and updates the button description.\n",
    "    \"\"\"\n",
    "\n",
    "    state = value.new\n",
    "\n",
    "    toggle_code(state)\n",
    "\n",
    "    value.owner.description = button_descriptions[state]\n",
    "\n",
    "\n",
    "state = False\n",
    "toggle_code(state)\n",
    "\n",
    "button = widgets.ToggleButton(state, description = button_descriptions[state])\n",
    "button.observe(button_action, \"value\")\n",
    "\n",
    "display(button)"
   ]
  }
 ],
 "metadata": {
  "kernelspec": {
   "display_name": "Python 3",
   "language": "python",
   "name": "python3"
  },
  "language_info": {
   "codemirror_mode": {
    "name": "ipython",
    "version": 3
   },
   "file_extension": ".py",
   "mimetype": "text/x-python",
   "name": "python",
   "nbconvert_exporter": "python",
   "pygments_lexer": "ipython3",
   "version": "3.8.3"
  }
 },
 "nbformat": 4,
 "nbformat_minor": 2
}
